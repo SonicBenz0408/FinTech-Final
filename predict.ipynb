{
 "cells": [
  {
   "cell_type": "code",
   "execution_count": 1,
   "metadata": {},
   "outputs": [],
   "source": [
    "import sys\n",
    "import random\n",
    "from time import time\n",
    "\n",
    "import numpy as np\n",
    "import pandas as pd\n",
    "from tqdm import tqdm\n",
    "import torch.optim as optim\n",
    "\n",
    "from KGAT import KGAT\n",
    "from utils.parser_kgat import *\n",
    "from utils.log_helper import *\n",
    "#from utils.metrics import *\n",
    "from utils.model_helper import *\n",
    "from data_loader import DataLoaderKGAT\n",
    "\n",
    "from scipy.sparse import coo_matrix\n",
    "import copy\n",
    "\n",
    "\n",
    "# Original code\n",
    "def evaluate(model, dataloader, user_ids, Ks, device):\n",
    "    test_batch_size = len(user_ids) #dataloader.test_batch_size\n",
    "    train_user_dict = dataloader.train_user_dict\n",
    "    test_user_dict = dataloader.test_user_dict\n",
    "\n",
    "    model.eval()\n",
    "\n",
    "    #user_ids = list(test_user_dict.keys())\n",
    "    user_ids_batches = [user_ids[i: i + test_batch_size] for i in range(0, len(user_ids), test_batch_size)]\n",
    "    user_ids_batches = [torch.LongTensor(d) for d in user_ids_batches]\n",
    "\n",
    "    n_items = dataloader.n_items\n",
    "    item_ids = torch.arange(n_items, dtype=torch.long).to(device)\n",
    "\n",
    "    cf_scores = []\n",
    "    metric_names = ['precision', 'recall', 'ndcg']\n",
    "    metrics_dict = {k: {m: [] for m in metric_names} for k in Ks}\n",
    "\n",
    "    with tqdm(total=len(user_ids_batches), desc='Evaluating Iteration') as pbar:\n",
    "        for batch_user_ids in user_ids_batches:\n",
    "            batch_user_ids = batch_user_ids.to(device)\n",
    "\n",
    "            with torch.no_grad():\n",
    "                batch_scores = model(batch_user_ids, item_ids, mode='predict')       # (n_batch_users, n_items)\n",
    "\n",
    "            batch_scores = batch_scores.cpu()\n",
    "            batch_metrics = calc_metrics_at_k(batch_scores, train_user_dict, test_user_dict, batch_user_ids.cpu().numpy(), item_ids.cpu().numpy(), Ks)\n",
    "\n",
    "            cf_scores.append(batch_scores.numpy())\n",
    "            for k in Ks:\n",
    "                for m in metric_names:\n",
    "                    metrics_dict[k][m].append(batch_metrics[k][m])\n",
    "            pbar.update(1)\n",
    "\n",
    "    cf_scores = np.concatenate(cf_scores, axis=0)\n",
    "    for k in Ks:\n",
    "        for m in metric_names:\n",
    "            metrics_dict[k][m] = np.concatenate(metrics_dict[k][m]).mean()\n",
    "    return cf_scores, metrics_dict\n",
    "\n",
    "def predict(args):\n",
    "    # GPU / CPU\n",
    "    device = torch.device(\"cuda\" if torch.cuda.is_available() else \"cpu\")\n",
    "\n",
    "    # load data\n",
    "    data = DataLoaderKGAT(args, logging)\n",
    "\n",
    "    # load model\n",
    "    model = KGAT(args, data.n_users, data.n_entities, data.n_relations)\n",
    "    checkpoint = torch.load(args.pretrain_model_path, map_location=torch.device('cpu'))\n",
    "    model.load_state_dict(checkpoint['model_state_dict'])\n",
    "    model.eval()\n",
    "    model.to(device)\n",
    "\n",
    "    # predict\n",
    "    Ks = eval(args.Ks)\n",
    "    k_min = min(Ks)\n",
    "    k_max = max(Ks)\n",
    "\n",
    "    cf_scores, metrics_dict = evaluate(model, data, Ks, device)\n",
    "    np.save(args.save_dir + 'cf_scores.npy', cf_scores)\n",
    "    print('CF Evaluation: Precision [{:.4f}, {:.4f}], Recall [{:.4f}, {:.4f}], NDCG [{:.4f}, {:.4f}]'.format(\n",
    "        metrics_dict[k_min]['precision'], metrics_dict[k_max]['precision'], metrics_dict[k_min]['recall'], metrics_dict[k_max]['recall'], metrics_dict[k_min]['ndcg'], metrics_dict[k_max]['ndcg']))"
   ]
  },
  {
   "cell_type": "code",
   "execution_count": 2,
   "metadata": {},
   "outputs": [],
   "source": [
    "import torch\n",
    "import numpy as np\n",
    "from sklearn.metrics import roc_auc_score, log_loss\n",
    "\n",
    "\n",
    "def calc_recall(rank, ground_truth, k):\n",
    "    \"\"\"\n",
    "    calculate recall of one example\n",
    "    \"\"\"\n",
    "    return len(set(rank[:k]) & set(ground_truth)) / float(len(set(ground_truth)))\n",
    "\n",
    "\n",
    "def precision_at_k(hit, k):\n",
    "    \"\"\"\n",
    "    calculate Precision@k\n",
    "    hit: list, element is binary (0 / 1)\n",
    "    \"\"\"\n",
    "    hit = np.asarray(hit)[:k]\n",
    "    return np.mean(hit)\n",
    "\n",
    "\n",
    "def precision_at_k_batch(hits, k):\n",
    "    \"\"\"\n",
    "    calculate Precision@k\n",
    "    hits: array, element is binary (0 / 1), 2-dim\n",
    "    \"\"\"\n",
    "    res = hits[:, :k].mean(axis=1)\n",
    "    return res\n",
    "\n",
    "\n",
    "def average_precision(hit, cut):\n",
    "    \"\"\"\n",
    "    calculate average precision (area under PR curve)\n",
    "    hit: list, element is binary (0 / 1)\n",
    "    \"\"\"\n",
    "    hit = np.asarray(hit)\n",
    "    precisions = [precision_at_k(hit, k + 1) for k in range(cut) if len(hit) >= k]\n",
    "    if not precisions:\n",
    "        return 0.\n",
    "    return np.sum(precisions) / float(min(cut, np.sum(hit)))\n",
    "\n",
    "\n",
    "def dcg_at_k(rel, k):\n",
    "    \"\"\"\n",
    "    calculate discounted cumulative gain (dcg)\n",
    "    rel: list, element is positive real values, can be binary\n",
    "    \"\"\"\n",
    "    rel = np.asfarray(rel)[:k]\n",
    "    dcg = np.sum((2 ** rel - 1) / np.log2(np.arange(2, rel.size + 2)))\n",
    "    return dcg\n",
    "\n",
    "\n",
    "def ndcg_at_k(rel, k):\n",
    "    \"\"\"\n",
    "    calculate normalized discounted cumulative gain (ndcg)\n",
    "    rel: list, element is positive real values, can be binary\n",
    "    \"\"\"\n",
    "    idcg = dcg_at_k(sorted(rel, reverse=True), k)\n",
    "    if not idcg:\n",
    "        return 0.\n",
    "    return dcg_at_k(rel, k) / idcg\n",
    "\n",
    "\n",
    "def ndcg_at_k_batch(hits, k):\n",
    "    \"\"\"\n",
    "    calculate NDCG@k\n",
    "    hits: array, element is binary (0 / 1), 2-dim\n",
    "    \"\"\"\n",
    "    hits_k = hits[:, :k]\n",
    "    dcg = np.sum((2 ** hits_k - 1) / np.log2(np.arange(2, k + 2)), axis=1)\n",
    "\n",
    "    sorted_hits_k = np.flip(np.sort(hits), axis=1)[:, :k]\n",
    "    idcg = np.sum((2 ** sorted_hits_k - 1) / np.log2(np.arange(2, k + 2)), axis=1)\n",
    "\n",
    "    idcg[idcg == 0] = np.inf\n",
    "    ndcg = (dcg / idcg)\n",
    "    return ndcg\n",
    "\n",
    "\n",
    "def recall_at_k(hit, k, all_pos_num):\n",
    "    \"\"\"\n",
    "    calculate Recall@k\n",
    "    hit: list, element is binary (0 / 1)\n",
    "    \"\"\"\n",
    "    hit = np.asfarray(hit)[:k]\n",
    "    return np.sum(hit) / all_pos_num\n",
    "\n",
    "\n",
    "def recall_at_k_batch(hits, k):\n",
    "    \"\"\"\n",
    "    calculate Recall@k\n",
    "    hits: array, element is binary (0 / 1), 2-dim\n",
    "    \"\"\"\n",
    "    res = (hits[:, :k].sum(axis=1) / hits.sum(axis=1))\n",
    "    return res\n",
    "\n",
    "\n",
    "def F1(pre, rec):\n",
    "    if pre + rec > 0:\n",
    "        return (2.0 * pre * rec) / (pre + rec)\n",
    "    else:\n",
    "        return 0.\n",
    "\n",
    "\n",
    "def calc_auc(ground_truth, prediction):\n",
    "    try:\n",
    "        res = roc_auc_score(y_true=ground_truth, y_score=prediction)\n",
    "    except Exception:\n",
    "        res = 0.\n",
    "    return res\n",
    "\n",
    "\n",
    "def logloss(ground_truth, prediction):\n",
    "    logloss = log_loss(np.asarray(ground_truth), np.asarray(prediction))\n",
    "    return logloss\n",
    "\n",
    "\n",
    "def calc_metrics_at_k(cf_scores, train_user_dict, test_user_dict, user_ids, item_ids, Ks):\n",
    "    \"\"\"\n",
    "    cf_scores: (n_users, n_items)\n",
    "    \"\"\"\n",
    "    test_pos_item_binary = np.zeros([len(user_ids), len(item_ids)], dtype=np.float32)\n",
    "    for idx, u in enumerate(user_ids):\n",
    "        train_pos_item_list = train_user_dict[u]\n",
    "        test_pos_item_list = test_user_dict[u]\n",
    "        cf_scores[idx][train_pos_item_list] = -np.inf\n",
    "        test_pos_item_binary[idx][test_pos_item_list] = 1\n",
    "\n",
    "    try:\n",
    "        _, rank_indices = torch.sort(cf_scores.cuda(), descending=True)    # try to speed up the sorting process\n",
    "    except:\n",
    "        _, rank_indices = torch.sort(cf_scores, descending=True)\n",
    "    rank_indices = rank_indices.cpu()\n",
    "\n",
    "    binary_hit = []\n",
    "    for i in range(len(user_ids)):\n",
    "        binary_hit.append(test_pos_item_binary[i][rank_indices[i]])\n",
    "    binary_hit = np.array(binary_hit, dtype=np.float32)\n",
    "    metrics_dict = {}\n",
    "    for k in Ks:\n",
    "        metrics_dict[k] = {}\n",
    "        metrics_dict[k]['precision'] = precision_at_k_batch(binary_hit, k)\n",
    "        metrics_dict[k]['recall']    = recall_at_k_batch(binary_hit, k)\n",
    "        metrics_dict[k]['ndcg']      = ndcg_at_k_batch(binary_hit, k)\n",
    "    return metrics_dict\n",
    "\n",
    "\n",
    "def exp_calc_metrics_at_k(rank_indices, train_user_dict, test_user_dict, user_ids, item_ids, Ks):\n",
    "    test_pos_item_binary = np.zeros([len(user_ids), len(item_ids)], dtype=np.float32)\n",
    "    for idx, u in enumerate(user_ids):\n",
    "        train_pos_item_list = train_user_dict[u]\n",
    "        test_pos_item_list = test_user_dict[u]\n",
    "        test_pos_item_binary[idx][test_pos_item_list] = 1\n",
    "\n",
    "    rank_indices = torch.LongTensor([rank_indices])\n",
    "    binary_hit = []\n",
    "    for i in range(len(user_ids)):\n",
    "        binary_hit.append(test_pos_item_binary[i][rank_indices[i]])\n",
    "    binary_hit = np.array(binary_hit, dtype=np.float32)\n",
    "\n",
    "    metrics_dict = {}\n",
    "    for k in Ks:\n",
    "        metrics_dict[k] = {}\n",
    "        metrics_dict[k]['precision'] = precision_at_k_batch(binary_hit, k)\n",
    "        metrics_dict[k]['recall']    = recall_at_k_batch(binary_hit, k)\n",
    "        metrics_dict[k]['ndcg']      = ndcg_at_k_batch(binary_hit, k)\n",
    "    return metrics_dict\n",
    "\n"
   ]
  },
  {
   "cell_type": "code",
   "execution_count": 3,
   "metadata": {},
   "outputs": [],
   "source": [
    "# kgat args (can adjust Ks and pretrain_model_path)\n",
    "class KGAT_args():\n",
    "    def __init__(self, \n",
    "                 seed=2019,\n",
    "                 data_name='amazon-book', \n",
    "                 data_dir='datasets/', \n",
    "                 use_pretrain=1, \n",
    "                 pretrain_embedding_dir='datasets/pretrain/', \n",
    "                 pretrain_model_path='trained_model/KGAT/model_epoch280.pth', \n",
    "                 cf_batch_size=1024, \n",
    "                 kg_batch_size=2048, \n",
    "                 test_batch_size=10000, \n",
    "                 embed_dim=64, \n",
    "                 relation_dim=64, \n",
    "                 laplacian_type='random-walk', \n",
    "                 aggregation_type='bi-interaction', \n",
    "                 conv_dim_list='[64, 32, 16]', \n",
    "                 mess_dropout='[0.1, 0.1, 0.1]', \n",
    "                 kg_l2loss_lambda=1e-5, \n",
    "                 cf_l2loss_lambda=1e-5, \n",
    "                 lr=0.0001, \n",
    "                 n_epoch=1000, \n",
    "                 stopping_steps=10, \n",
    "                 cf_print_every=1, \n",
    "                 kg_print_every=1, \n",
    "                 evaluate_every=20, \n",
    "                 Ks='[10]'):\n",
    "        \n",
    "        self.seed = seed\n",
    "        self.data_name = data_name\n",
    "        self.data_dir = data_dir\n",
    "        self.use_pretrain = use_pretrain\n",
    "        self.pretrain_embedding_dir = pretrain_embedding_dir\n",
    "        self.pretrain_model_path = pretrain_model_path\n",
    "        self.cf_batch_size = cf_batch_size\n",
    "        self.kg_batch_size = kg_batch_size\n",
    "        self.test_batch_size = test_batch_size\n",
    "        self.embed_dim = embed_dim\n",
    "        self.relation_dim = relation_dim\n",
    "        self.laplacian_type = laplacian_type\n",
    "        self.aggregation_type = aggregation_type\n",
    "        self.conv_dim_list = conv_dim_list\n",
    "        self.mess_dropout = mess_dropout\n",
    "        self.kg_l2loss_lambda = kg_l2loss_lambda\n",
    "        self.cf_l2loss_lambda = cf_l2loss_lambda\n",
    "        self.lr = lr\n",
    "        self.n_epoch = n_epoch\n",
    "        self.stopping_steps = stopping_steps\n",
    "        self.cf_print_every = cf_print_every\n",
    "        self.kg_print_every = kg_print_every\n",
    "        self.evaluate_every = evaluate_every\n",
    "        self.Ks = Ks\n",
    "        save_dir = 'trained_model/KGAT/{}/embed-dim{}_relation-dim{}_{}_{}_{}_lr{}_pretrain{}/'.format(\n",
    "        self.data_name, self.embed_dim, self.relation_dim, self.laplacian_type, self.aggregation_type,\n",
    "        '-'.join([str(i) for i in eval(self.conv_dim_list)]), self.lr, self.use_pretrain)\n",
    "        self.save_dir = save_dir"
   ]
  },
  {
   "cell_type": "code",
   "execution_count": 4,
   "metadata": {},
   "outputs": [
    {
     "name": "stderr",
     "output_type": "stream",
     "text": [
      "d:\\Benz\\study\\大四上\\FinTech\\final\\FinTech-Final\\data_loader.py:291: RuntimeWarning: divide by zero encountered in power\n",
      "  d_inv = np.power(rowsum, -1.0).flatten()\n"
     ]
    }
   ],
   "source": [
    "args = KGAT_args()\n",
    "device = torch.device(\"cuda\" if torch.cuda.is_available() else \"cpu\")\n",
    "\n",
    "# load data\n",
    "data = DataLoaderKGAT(args, logging)\n",
    "\n",
    "# load model\n",
    "model = KGAT(args, data.n_users, data.n_entities, data.n_relations)\n",
    "checkpoint = torch.load(args.pretrain_model_path, map_location=torch.device('cpu'))\n",
    "model.load_state_dict(checkpoint['model_state_dict'])\n",
    "model.eval()\n",
    "model.to(device)\n",
    "pass"
   ]
  },
  {
   "cell_type": "code",
   "execution_count": null,
   "metadata": {},
   "outputs": [],
   "source": [
    "# Counts\n",
    "print(data.n_items) # 0~24914\n",
    "print(data.n_entities) # 24915~113486\n",
    "print(data.n_users_entities) # 113487~184165"
   ]
  },
  {
   "cell_type": "code",
   "execution_count": 5,
   "metadata": {},
   "outputs": [],
   "source": [
    "def find_all_path(start, end, target_r_1, target_r_2, adj_matrix):\n",
    "    adj_first = adj_matrix[0].tocsr()\n",
    "    adj_second = adj_matrix[target_r_1].tocsr()\n",
    "    #adj_last = adj_matrix[target_r_2].tocsr()\n",
    "    \n",
    "    if target_r_2 == 0:\n",
    "        reverse_adj_last = adj_matrix[1].tocsr()\n",
    "    elif target_r_2 <= 40:\n",
    "        reverse_adj_last = adj_matrix[target_r_2 + 39].tocsr()\n",
    "    else:\n",
    "        reverse_adj_last = adj_matrix[target_r_2 - 39].tocsr()\n",
    "    \n",
    "    # All items connect to start\n",
    "    first_step_candidate = adj_first.indices[adj_first.indptr[start]:adj_first.indptr[start+1]]\n",
    "    first_step_candidate = np.delete(first_step_candidate, np.where(first_step_candidate == end)[0])\n",
    "    \n",
    "    # All entity(uiei)/user(uiui) connect to end\n",
    "    last_step_candidate = reverse_adj_last.indices[reverse_adj_last.indptr[end]:reverse_adj_last.indptr[end+1]]\n",
    "    last_step_candidate = np.delete(last_step_candidate, np.where(last_step_candidate == start)[0])\n",
    "\n",
    "    output_paths = []\n",
    "    for h in first_step_candidate:\n",
    "        tails = adj_second.indices[adj_second.indptr[h]:adj_second.indptr[h+1]]\n",
    "        for t in tails:\n",
    "            if t in last_step_candidate:\n",
    "                output_paths.append([start, h, target_r_1, t, target_r_2, end])\n",
    "    \n",
    "    return output_paths\n",
    "\n",
    "def find_all_path_all_r(start, end, relations, adj_matrix):\n",
    "    all_paths = []\n",
    "    for r in relations:\n",
    "        if r == 1:\n",
    "            r_1 = 1\n",
    "            r_2 = 0\n",
    "        else:\n",
    "            r_1 = r\n",
    "            r_2 = r + 39\n",
    "        \n",
    "        #t1 = time.perf_counter()\n",
    "        paths = find_all_path(start, end, r_1, r_2, adj_matrix)\n",
    "        all_paths += paths\n",
    "        #t2 = time.perf_counter()\n",
    "        #print(\"t = \", t2 - t1)\n",
    "        paths = find_all_path(start, end, r_2, r_1, adj_matrix)\n",
    "        all_paths += paths\n",
    "        #t3 = time.perf_counter()\n",
    "        #print(\"t2 = \", t3 - t2)\n",
    "    return all_paths"
   ]
  },
  {
   "cell_type": "code",
   "execution_count": 18,
   "metadata": {},
   "outputs": [],
   "source": [
    "# Get the score of a single path \n",
    "# 'sum', 'mul', 'max'\n",
    "def path_score(path, A_in, mode='sum'):\n",
    "    assert len(path) == 6  # [U, I, r_1, E, r_2, I]\n",
    "\n",
    "    if mode == 'sum':\n",
    "        return A_in[path[0]][path[1]] + A_in[path[1]][path[3]] + A_in[path[3]][path[5]]\n",
    "    \n",
    "    elif mode == 'mul':\n",
    "        return A_in[path[0]][path[1]] * A_in[path[1]][path[3]] * A_in[path[3]][path[5]]\n",
    "    \n",
    "    elif mode == 'max':\n",
    "        return max(A_in[path[0]][path[1]], A_in[path[1]][path[3]], A_in[path[3]][path[5]])\n",
    "    \n",
    "    elif mode == '12':\n",
    "        return A_in[path[0]][path[1]] * A_in[path[1]][path[3]]\n",
    "    \n",
    "    elif mode == '23':\n",
    "        return A_in[path[1]][path[3]] * A_in[path[3]][path[5]]\n",
    "\n",
    "    elif mode == '13':\n",
    "        return A_in[path[0]][path[1]] * A_in[path[3]][path[5]]\n",
    "\n",
    "    else:\n",
    "        raise ValueError('mode should be in [\"sum\", \"mul\", \"max\"].')\n",
    "\n",
    "# Rerank the paths\n",
    "def get_top_k_path(paths, A_in, mode='sum', k=5):\n",
    "    assert len(paths) > 0\n",
    "    \n",
    "    scores = [path_score(path, A_in, mode) for path in paths]\n",
    "    reranked_paths = [path for _, path in sorted(zip(scores,paths), reverse=True)]\n",
    "    sorted_scores = sorted(scores, reverse=True)\n",
    "\n",
    "    return reranked_paths[:k], sorted_scores[:k]\n",
    "\n",
    "# Single user prediction\n",
    "def predict_single(model, dataloader, user_id, relations, Ks, device, mode):\n",
    "    train_user_dict = dataloader.train_user_dict\n",
    "\n",
    "    model.eval()\n",
    "    input_user_id = torch.LongTensor([user_id]).to(device)\n",
    "\n",
    "    n_items = dataloader.n_items\n",
    "    item_ids = torch.arange(n_items, dtype=torch.long).to(device)\n",
    "    k_max = max(Ks)\n",
    "\n",
    "    with torch.no_grad():\n",
    "        matching_scores = model(input_user_id, item_ids, mode='predict')[0].cpu().numpy()       # (n_batch_users, n_items)\n",
    "\n",
    "    train_pos_item_list = train_user_dict[user_id]\n",
    "    matching_scores[train_pos_item_list] = -np.inf\n",
    "    top_k_items = np.argsort(-matching_scores)[:k_max]\n",
    "    top_k_all_att_scores = []\n",
    "    top_k_all_paths = []\n",
    "    top_k_paths = []\n",
    "    top_k_att_scores = []\n",
    "    \n",
    "    for item_id in top_k_items:\n",
    "        paths = find_all_path_all_r(user_id, item_id, relations, dataloader.adjacency_dict)\n",
    "        reranked_paths, scores = get_top_k_path(paths, model.A_in, mode=mode, k=5)\n",
    "        top_k_all_att_scores.append(scores)\n",
    "        top_k_all_paths.append(reranked_paths)\n",
    "        top_k_att_scores.append(scores[0])\n",
    "        top_k_paths.append(reranked_paths[0])\n",
    "    \n",
    "    output = {}\n",
    "    for k in Ks:\n",
    "        reranked_items = [id for _, id in sorted(zip(top_k_att_scores[:k], top_k_items[:k]), reverse=True)]\n",
    "        explainations = [path for _, path in sorted(zip(top_k_att_scores[:k], top_k_paths[:k]), reverse=True)]\n",
    "        output[k] = {'item_ids': reranked_items, 'explainations': explainations}\n",
    "    \n",
    "    #print(top_k_items)\n",
    "    #print(reranked_items)\n",
    "    #print(dataloader.test_user_dict[user_id])\n",
    "    return output, top_k_all_att_scores, top_k_all_paths, top_k_items\n",
    "\n",
    "# Check original model predcition hit the GT in top-k (the result is in hits_10.txt, hits_20.txt)\n",
    "def predict_ori(model, dataloader, Ks, device):\n",
    "    test_batch_size = 3000 #dataloader.test_batch_size\n",
    "    train_user_dict = dataloader.train_user_dict\n",
    "    test_user_dict = dataloader.test_user_dict\n",
    "    \n",
    "    model.eval()\n",
    "    user_ids = list(test_user_dict.keys())\n",
    "    user_ids_batches = [user_ids[i: i + test_batch_size] for i in range(0, len(user_ids), test_batch_size)]\n",
    "    user_ids_batches = [torch.LongTensor(d) for d in user_ids_batches]\n",
    "\n",
    "    n_items = dataloader.n_items\n",
    "    item_ids = torch.arange(n_items, dtype=torch.long).to(device)\n",
    "    k_max = max(Ks)\n",
    "\n",
    "    hit_users = []\n",
    "    with tqdm(total=len(user_ids_batches), desc='Evaluating Iteration') as pbar:\n",
    "        for batch_user_ids in user_ids_batches:\n",
    "            batch_user_ids = batch_user_ids.to(device)\n",
    "\n",
    "            with torch.no_grad():\n",
    "                matching_scores = model(batch_user_ids, item_ids, mode='predict')       # (n_batch_users, n_items)\n",
    "\n",
    "            batch_user_ids = batch_user_ids.cpu().numpy()\n",
    "            test_pos_item_binary = np.zeros([len(batch_user_ids), len(item_ids.cpu().numpy())], dtype=np.float32)\n",
    "            for idx, u in enumerate(batch_user_ids):\n",
    "                train_pos_item_list = train_user_dict[u]\n",
    "                test_pos_item_list = test_user_dict[u]\n",
    "                matching_scores[idx][train_pos_item_list] = -np.inf\n",
    "                test_pos_item_binary[idx][test_pos_item_list] = 1\n",
    "\n",
    "            try:\n",
    "                _, rank_indices = torch.sort(matching_scores.cuda(), descending=True)    # try to speed up the sorting process\n",
    "            except:\n",
    "                _, rank_indices = torch.sort(matching_scores, descending=True)\n",
    "\n",
    "            rank_indices = rank_indices.cpu()\n",
    "            binary_hit = []\n",
    "            for i in range(len(batch_user_ids)):\n",
    "                binary_hit.append(test_pos_item_binary[i][rank_indices[i]])\n",
    "            binary_hit = np.array(binary_hit, dtype=np.float32)[:, :k_max]\n",
    "            hit_user = np.where(np.sum(binary_hit, axis=1) >= 1)[0]\n",
    "            hit_users += list(batch_user_ids[hit_user])\n",
    "            pbar.update(1)\n",
    "    \n",
    "    return hit_users\n",
    "\n",
    "# Get results of all users (explainable version)\n",
    "def explainable_evaluate(model, dataloader, user_ids, relations, Ks, device, mode):\n",
    "    test_batch_size = dataloader.test_batch_size\n",
    "    train_user_dict = dataloader.train_user_dict\n",
    "    test_user_dict = dataloader.test_user_dict\n",
    "\n",
    "    model.eval()\n",
    "\n",
    "    #user_ids = list(test_user_dict.keys())\n",
    "    \n",
    "    n_items = dataloader.n_items\n",
    "    item_ids = torch.arange(n_items, dtype=torch.long).to(device)\n",
    "\n",
    "    metric_names = ['precision', 'recall', 'ndcg']\n",
    "    metrics_dict = {k: {m: [] for m in metric_names} for k in Ks}\n",
    "\n",
    "    with tqdm(total=len(user_ids), desc='Evaluating Iteration') as pbar:\n",
    "        for user_id in user_ids:\n",
    "\n",
    "            output, _, _, ori_top_k = predict_single(model, dataloader, user_id, relations, Ks, device, mode)\n",
    "            batch_metrics = exp_calc_metrics_at_k(output[max(Ks)]['item_ids'], train_user_dict, test_user_dict, [user_id], item_ids.cpu().numpy(), Ks)\n",
    "            ori_metrics = exp_calc_metrics_at_k(ori_top_k, train_user_dict, test_user_dict, [user_id], item_ids.cpu().numpy(), Ks)\n",
    "            for k in Ks:\n",
    "                for m in metric_names:\n",
    "                    metrics_dict[k][m].append(batch_metrics[k][m])\n",
    "            pbar.update(1)\n",
    "\n",
    "    for k in Ks:\n",
    "        for m in metric_names:\n",
    "            metrics_dict[k][m] = np.concatenate(metrics_dict[k][m]).mean()\n",
    "    return metrics_dict\n",
    "    \n",
    "def explainable_recommend(model, data, relations, Ks):\n",
    "    # predict\n",
    "    #Ks = eval(Ks)\n",
    "    k_min = min(Ks)\n",
    "    k_max = max(Ks)\n",
    "    metrics_dicts_sum = []\n",
    "    metrics_dicts_mul = []\n",
    "    metrics_dicts_max = []\n",
    "    metrics_dicts = []\n",
    "    with open('hits_10.txt', 'r') as f:\n",
    "        all_hits = f.readlines()\n",
    "    with open('results/Ks10_5_400.txt', 'w') as f:\n",
    "        pass\n",
    "    for i in range(len(all_hits)):\n",
    "        all_hits[i] = int(all_hits[i])\n",
    "    for i in range(5):\n",
    "        user_ids = random.sample(all_hits, 400)\n",
    "        cf_scores, metrics_dict = evaluate(model, data, user_ids, Ks, device)\n",
    "        metrics_dicts.append(metrics_dict)\n",
    "        print(\"Original\")\n",
    "        print('CF Evaluation: Precision [{:.4f}, {:.4f}], Recall [{:.4f}, {:.4f}], NDCG [{:.4f}, {:.4f}]'.format(\n",
    "           metrics_dict[k_min]['precision'], metrics_dict[k_max]['precision'], metrics_dict[k_min]['recall'], metrics_dict[k_max]['recall'], metrics_dict[k_min]['ndcg'], metrics_dict[k_max]['ndcg']))\n",
    "        with open('results/Ks10_5_400.txt', 'a') as f:\n",
    "            f.write(\"Original\\n\")\n",
    "            f.write('CF Evaluation: Precision [{:.4f}, {:.4f}], Recall [{:.4f}, {:.4f}], NDCG [{:.4f}, {:.4f}]'.format(\n",
    "           metrics_dict[k_min]['precision'], metrics_dict[k_max]['precision'], metrics_dict[k_min]['recall'], metrics_dict[k_max]['recall'], metrics_dict[k_min]['ndcg'], metrics_dict[k_max]['ndcg']))\n",
    "        metrics_dict = explainable_evaluate(model, data, user_ids, relations, Ks, device, mode='sum')\n",
    "        metrics_dicts_sum.append(metrics_dict)\n",
    "        print(\"Explainable sum\")\n",
    "        print('CF Evaluation: Precision [{:.4f}, {:.4f}], Recall [{:.4f}, {:.4f}], NDCG [{:.4f}, {:.4f}]'.format(\n",
    "           metrics_dict[k_min]['precision'], metrics_dict[k_max]['precision'], metrics_dict[k_min]['recall'], metrics_dict[k_max]['recall'], metrics_dict[k_min]['ndcg'], metrics_dict[k_max]['ndcg']))\n",
    "        with open('results/Ks10_5_400.txt', 'a') as f:\n",
    "            f.write(\"Explainable sum\\n\")\n",
    "            f.write('CF Evaluation: Precision [{:.4f}, {:.4f}], Recall [{:.4f}, {:.4f}], NDCG [{:.4f}, {:.4f}]'.format(\n",
    "           metrics_dict[k_min]['precision'], metrics_dict[k_max]['precision'], metrics_dict[k_min]['recall'], metrics_dict[k_max]['recall'], metrics_dict[k_min]['ndcg'], metrics_dict[k_max]['ndcg']))\n",
    "        metrics_dict = explainable_evaluate(model, data, user_ids, relations, Ks, device, mode='mul')\n",
    "        metrics_dicts_mul.append(metrics_dict)\n",
    "        print(\"Explainable mul\")\n",
    "        print('CF Evaluation: Precision [{:.4f}, {:.4f}], Recall [{:.4f}, {:.4f}], NDCG [{:.4f}, {:.4f}]'.format(\n",
    "           metrics_dict[k_min]['precision'], metrics_dict[k_max]['precision'], metrics_dict[k_min]['recall'], metrics_dict[k_max]['recall'], metrics_dict[k_min]['ndcg'], metrics_dict[k_max]['ndcg']))\n",
    "        with open('results/Ks10_5_400.txt', 'a') as f:\n",
    "            f.write(\"Explainable mul\\n\")\n",
    "            f.write('CF Evaluation: Precision [{:.4f}, {:.4f}], Recall [{:.4f}, {:.4f}], NDCG [{:.4f}, {:.4f}]'.format(\n",
    "           metrics_dict[k_min]['precision'], metrics_dict[k_max]['precision'], metrics_dict[k_min]['recall'], metrics_dict[k_max]['recall'], metrics_dict[k_min]['ndcg'], metrics_dict[k_max]['ndcg']))\n",
    "        metrics_dict = explainable_evaluate(model, data, user_ids, relations, Ks, device, mode='max')\n",
    "        metrics_dicts_max.append(metrics_dict)\n",
    "        with open('results/Ks10_5_400.txt', 'a') as f:\n",
    "            f.write(\"Explainable max\\n\")\n",
    "            f.write('CF Evaluation: Precision [{:.4f}, {:.4f}], Recall [{:.4f}, {:.4f}], NDCG [{:.4f}, {:.4f}]'.format(\n",
    "           metrics_dict[k_min]['precision'], metrics_dict[k_max]['precision'], metrics_dict[k_min]['recall'], metrics_dict[k_max]['recall'], metrics_dict[k_min]['ndcg'], metrics_dict[k_max]['ndcg']))\n",
    "        \n",
    "    return metrics_dicts, metrics_dicts_sum, metrics_dicts_mul, metrics_dicts_max"
   ]
  },
  {
   "cell_type": "code",
   "execution_count": 61,
   "metadata": {},
   "outputs": [
    {
     "data": {
      "text/plain": [
       "(array([], dtype=int64),)"
      ]
     },
     "execution_count": 61,
     "metadata": {},
     "output_type": "execute_result"
    }
   ],
   "source": [
    "np.where(np.sum(np.array([[0, 0, 0, 0, 0]]), axis=1) > 0)"
   ]
  },
  {
   "cell_type": "code",
   "execution_count": 9,
   "metadata": {},
   "outputs": [],
   "source": [
    "#delete [2, 3, 6, 11, 21, 22, 32, 35, 37] -> [4, 5, 8, 13, 23, 24, 34, 37, 39] ([43, 44, 47, 52, 62, 63, 73, 76, 78])\n",
    "all_relations = range(2, 41)\n",
    "delete_relations = [4, 5, 8, 13, 23, 24, 34, 37, 39]\n",
    "target_relations = list(set(all_relations) - set(delete_relations))\n",
    "\n",
    "Ks = [10]\n",
    "device = torch.device(\"cuda\" if torch.cuda.is_available() else \"cpu\")\n",
    "\n",
    "#output, all_paths, all_scores, ori_top_k = predict_single(model, data, 113511, target_relations, [20], device)\n",
    "#hits = predict_ori(model, data, [20], device)"
   ]
  },
  {
   "cell_type": "code",
   "execution_count": 106,
   "metadata": {},
   "outputs": [],
   "source": [
    "with open('hits_20.txt', 'w') as f:\n",
    "    for hit in hits:\n",
    "        f.write(str(hit)+'\\n')"
   ]
  },
  {
   "cell_type": "code",
   "execution_count": 89,
   "metadata": {},
   "outputs": [
    {
     "name": "stdout",
     "output_type": "stream",
     "text": [
      "[805, 4693, 324, 1473, 548, 271, 2249, 291, 537, 2841, 642, 2142, 4016, 1078, 6897, 5401, 2040, 534, 6891, 4025]\n",
      "[6897, 6891, 5401, 4693, 4025, 4016, 2841, 2249, 2142, 2040, 1473, 1078, 805, 642, 548, 537, 534, 324, 291, 271]\n",
      "[  805 15038]\n"
     ]
    }
   ],
   "source": [
    "print(list(ori_top_k))\n",
    "print(output[20]['item_ids'])\n",
    "print(data.test_user_dict[113511])"
   ]
  },
  {
   "cell_type": "code",
   "execution_count": 16,
   "metadata": {},
   "outputs": [
    {
     "name": "stderr",
     "output_type": "stream",
     "text": [
      "Evaluating Iteration: 100%|██████████| 1/1 [00:00<00:00,  3.04it/s]\n"
     ]
    },
    {
     "name": "stdout",
     "output_type": "stream",
     "text": [
      "Original\n",
      "CF Evaluation: Precision [0.1270, 0.1270], Recall [0.6123, 0.6123], NDCG [0.3798, 0.3798]\n"
     ]
    },
    {
     "name": "stderr",
     "output_type": "stream",
     "text": [
      "Evaluating Iteration:   0%|          | 0/100 [00:00<?, ?it/s]C:\\Users\\Benz\\AppData\\Local\\Temp/ipykernel_24320/559897981.py:155: UserWarning: Creating a tensor from a list of numpy.ndarrays is extremely slow. Please consider converting the list to a single numpy.ndarray with numpy.array() before converting to a tensor. (Triggered internally at  ..\\torch\\csrc\\utils\\tensor_new.cpp:201.)\n",
      "  rank_indices = torch.LongTensor([rank_indices])\n",
      "Evaluating Iteration:   1%|          | 1/100 [00:15<26:21, 15.98s/it]"
     ]
    },
    {
     "name": "stdout",
     "output_type": "stream",
     "text": [
      "[ 1220 13815  3461 16248 14322 18412 16374 20344  8904 15746]\n",
      "[14322, 18412, 20344, 16374, 16248, 15746, 13815, 8904, 3461, 1220]\n",
      "[1220]\n",
      "{10: {'precision': array([0.1], dtype=float32), 'recall': array([1.], dtype=float32), 'ndcg': array([0.28906483])}}\n",
      "{10: {'precision': array([0.1], dtype=float32), 'recall': array([1.], dtype=float32), 'ndcg': array([1.])}}\n"
     ]
    },
    {
     "name": "stderr",
     "output_type": "stream",
     "text": [
      "Evaluating Iteration:   2%|▏         | 2/100 [00:32<26:15, 16.07s/it]"
     ]
    },
    {
     "name": "stdout",
     "output_type": "stream",
     "text": [
      "[13643  9003 10778 15825 14031 16662 19762 19942 19940  9001]\n",
      "[10778, 19762, 19942, 13643, 15825, 16662, 14031, 19940, 9001, 9003]\n",
      "[19942]\n",
      "{10: {'precision': array([0.1], dtype=float32), 'recall': array([1.], dtype=float32), 'ndcg': array([0.5])}}\n",
      "{10: {'precision': array([0.1], dtype=float32), 'recall': array([1.], dtype=float32), 'ndcg': array([0.31546488])}}\n"
     ]
    },
    {
     "name": "stderr",
     "output_type": "stream",
     "text": [
      "Evaluating Iteration:   3%|▎         | 3/100 [00:48<26:06, 16.15s/it]"
     ]
    },
    {
     "name": "stdout",
     "output_type": "stream",
     "text": [
      "[23799 24124 24281 23539 23740 24400 23538 24311 19243 24283]\n",
      "[24311, 23539, 24400, 24283, 24281, 24124, 23799, 23740, 23538, 19243]\n",
      "[19243 23799]\n",
      "{10: {'precision': array([0.2], dtype=float32), 'recall': array([1.], dtype=float32), 'ndcg': array([0.38162168])}}\n",
      "{10: {'precision': array([0.2], dtype=float32), 'recall': array([1.], dtype=float32), 'ndcg': array([0.79772289])}}\n"
     ]
    },
    {
     "name": "stderr",
     "output_type": "stream",
     "text": [
      "Evaluating Iteration:   4%|▍         | 4/100 [01:06<27:10, 16.98s/it]"
     ]
    },
    {
     "name": "stdout",
     "output_type": "stream",
     "text": [
      "[ 6350 17544 19780 16580 18465   290  6343 19649   783 21025]\n",
      "[783, 19649, 6350, 19780, 18465, 17544, 290, 16580, 21025, 6343]\n",
      "[2670 6350 7157 9790]\n",
      "{10: {'precision': array([0.1], dtype=float32), 'recall': array([1.], dtype=float32), 'ndcg': array([0.5])}}\n",
      "{10: {'precision': array([0.1], dtype=float32), 'recall': array([1.], dtype=float32), 'ndcg': array([1.])}}\n"
     ]
    },
    {
     "name": "stderr",
     "output_type": "stream",
     "text": [
      "Evaluating Iteration:   5%|▌         | 5/100 [01:24<27:07, 17.13s/it]"
     ]
    },
    {
     "name": "stdout",
     "output_type": "stream",
     "text": [
      "[ 242  240  209  309 2696 3369 1342 5238 1955  781]\n",
      "[5238, 1955, 1342, 209, 3369, 2696, 781, 309, 242, 240]\n",
      "[ 242 2699]\n",
      "{10: {'precision': array([0.1], dtype=float32), 'recall': array([1.], dtype=float32), 'ndcg': array([0.30103])}}\n",
      "{10: {'precision': array([0.1], dtype=float32), 'recall': array([1.], dtype=float32), 'ndcg': array([1.])}}\n"
     ]
    },
    {
     "name": "stderr",
     "output_type": "stream",
     "text": [
      "Evaluating Iteration:   6%|▌         | 6/100 [01:39<26:05, 16.66s/it]"
     ]
    },
    {
     "name": "stdout",
     "output_type": "stream",
     "text": [
      "[ 6110  9347  7455 12698 12523 22486 13099  6162 12729 14286]\n",
      "[9347, 6110, 12698, 12523, 14286, 7455, 22486, 6162, 12729, 13099]\n",
      "[9347]\n",
      "{10: {'precision': array([0.1], dtype=float32), 'recall': array([1.], dtype=float32), 'ndcg': array([1.])}}\n",
      "{10: {'precision': array([0.1], dtype=float32), 'recall': array([1.], dtype=float32), 'ndcg': array([0.63092975])}}\n"
     ]
    },
    {
     "name": "stderr",
     "output_type": "stream",
     "text": [
      "Evaluating Iteration:   7%|▋         | 7/100 [01:55<25:21, 16.36s/it]"
     ]
    },
    {
     "name": "stdout",
     "output_type": "stream",
     "text": [
      "[13815  1220  3380  1214  2919  5315 18695 22571  3461  4441]\n",
      "[22571, 18695, 2919, 1214, 13815, 5315, 4441, 3461, 3380, 1220]\n",
      "[ 1220 20779]\n",
      "{10: {'precision': array([0.1], dtype=float32), 'recall': array([1.], dtype=float32), 'ndcg': array([0.28906483])}}\n",
      "{10: {'precision': array([0.1], dtype=float32), 'recall': array([1.], dtype=float32), 'ndcg': array([0.63092975])}}\n"
     ]
    },
    {
     "name": "stderr",
     "output_type": "stream",
     "text": [
      "Evaluating Iteration:   8%|▊         | 8/100 [02:11<25:09, 16.40s/it]"
     ]
    },
    {
     "name": "stdout",
     "output_type": "stream",
     "text": [
      "[ 6346 23377  6360 23427 23620 21602 23599 21132 17762 14330]\n",
      "[23620, 17762, 21602, 23599, 23427, 23377, 21132, 14330, 6360, 6346]\n",
      "[12645 23620 24445]\n",
      "{10: {'precision': array([0.1], dtype=float32), 'recall': array([1.], dtype=float32), 'ndcg': array([1.])}}\n",
      "{10: {'precision': array([0.1], dtype=float32), 'recall': array([1.], dtype=float32), 'ndcg': array([0.38685281])}}\n"
     ]
    },
    {
     "name": "stderr",
     "output_type": "stream",
     "text": [
      "Evaluating Iteration:   9%|▉         | 9/100 [02:29<25:19, 16.70s/it]"
     ]
    },
    {
     "name": "stdout",
     "output_type": "stream",
     "text": [
      "[  514  4680  4852 13815  1918   498  1919  2085  4144  3435]\n",
      "[2085, 13815, 4852, 4680, 4144, 3435, 1919, 1918, 514, 498]\n",
      "[  595  1802 13815]\n",
      "{10: {'precision': array([0.1], dtype=float32), 'recall': array([1.], dtype=float32), 'ndcg': array([0.63092975])}}\n",
      "{10: {'precision': array([0.1], dtype=float32), 'recall': array([1.], dtype=float32), 'ndcg': array([0.43067656])}}\n"
     ]
    },
    {
     "name": "stderr",
     "output_type": "stream",
     "text": [
      "Evaluating Iteration:  10%|█         | 10/100 [02:57<30:27, 20.30s/it]"
     ]
    },
    {
     "name": "stdout",
     "output_type": "stream",
     "text": [
      "[11344 14605 20540  9928 17714 17144 17236 14222 22948 11171]\n",
      "[22948, 20540, 17714, 17236, 17144, 14605, 14222, 11344, 11171, 9928]\n",
      "[ 9562 11117 14218 16246 17144 17779 17855 19352 21223 22948]\n",
      "{10: {'precision': array([0.2], dtype=float32), 'recall': array([1.], dtype=float32), 'ndcg': array([0.85034491])}}\n",
      "{10: {'precision': array([0.2], dtype=float32), 'recall': array([1.], dtype=float32), 'ndcg': array([0.40298313])}}\n"
     ]
    },
    {
     "name": "stderr",
     "output_type": "stream",
     "text": [
      "Evaluating Iteration:  11%|█         | 11/100 [03:14<28:18, 19.08s/it]"
     ]
    },
    {
     "name": "stdout",
     "output_type": "stream",
     "text": [
      "[18520 16977 17723 23302 17776 17782 21156 20113 24078   283]\n",
      "[24078, 23302, 21156, 20113, 18520, 17782, 17776, 17723, 16977, 283]\n",
      "[21156 21603 22096]\n",
      "{10: {'precision': array([0.1], dtype=float32), 'recall': array([1.], dtype=float32), 'ndcg': array([0.5])}}\n",
      "{10: {'precision': array([0.1], dtype=float32), 'recall': array([1.], dtype=float32), 'ndcg': array([0.33333333])}}\n"
     ]
    },
    {
     "name": "stderr",
     "output_type": "stream",
     "text": [
      "Evaluating Iteration:  12%|█▏        | 12/100 [03:30<26:52, 18.32s/it]"
     ]
    },
    {
     "name": "stdout",
     "output_type": "stream",
     "text": [
      "[ 3626 21255  3631 15701 18694  4076  4079  3612  7591  9038]\n",
      "[15701, 18694, 21255, 9038, 7591, 4079, 4076, 3631, 3626, 3612]\n",
      "[ 7591 18079]\n",
      "{10: {'precision': array([0.1], dtype=float32), 'recall': array([1.], dtype=float32), 'ndcg': array([0.38685281])}}\n",
      "{10: {'precision': array([0.1], dtype=float32), 'recall': array([1.], dtype=float32), 'ndcg': array([0.30103])}}\n"
     ]
    },
    {
     "name": "stderr",
     "output_type": "stream",
     "text": [
      "Evaluating Iteration:  13%|█▎        | 13/100 [03:46<25:25, 17.53s/it]"
     ]
    },
    {
     "name": "stdout",
     "output_type": "stream",
     "text": [
      "[16374  3461 19264  4852 18695 15746  1115 13815  3434 18689]\n",
      "[18695, 19264, 18689, 16374, 15746, 13815, 4852, 3461, 3434, 1115]\n",
      "[18695]\n",
      "{10: {'precision': array([0.1], dtype=float32), 'recall': array([1.], dtype=float32), 'ndcg': array([1.])}}\n",
      "{10: {'precision': array([0.1], dtype=float32), 'recall': array([1.], dtype=float32), 'ndcg': array([0.38685281])}}\n"
     ]
    },
    {
     "name": "stderr",
     "output_type": "stream",
     "text": [
      "Evaluating Iteration:  14%|█▍        | 14/100 [04:02<24:29, 17.09s/it]"
     ]
    },
    {
     "name": "stdout",
     "output_type": "stream",
     "text": [
      "[24245 23623 24535 21156 23799 22723 24247 24022 18520 24466]\n",
      "[23623, 24022, 24245, 24535, 24466, 24247, 23799, 22723, 21156, 18520]\n",
      "[23623 24535]\n",
      "{10: {'precision': array([0.2], dtype=float32), 'recall': array([1.], dtype=float32), 'ndcg': array([0.87721532])}}\n",
      "{10: {'precision': array([0.2], dtype=float32), 'recall': array([1.], dtype=float32), 'ndcg': array([0.6934264])}}\n"
     ]
    },
    {
     "name": "stderr",
     "output_type": "stream",
     "text": [
      "Evaluating Iteration:  15%|█▌        | 15/100 [04:19<24:02, 16.97s/it]"
     ]
    },
    {
     "name": "stdout",
     "output_type": "stream",
     "text": [
      "[ 747  710  296   45 2776 3657  650  402  625 1923]\n",
      "[2776, 650, 3657, 1923, 747, 710, 625, 402, 296, 45]\n",
      "[ 710 3828]\n",
      "{10: {'precision': array([0.1], dtype=float32), 'recall': array([1.], dtype=float32), 'ndcg': array([0.35620719])}}\n",
      "{10: {'precision': array([0.1], dtype=float32), 'recall': array([1.], dtype=float32), 'ndcg': array([0.63092975])}}\n"
     ]
    },
    {
     "name": "stderr",
     "output_type": "stream",
     "text": [
      "Evaluating Iteration:  16%|█▌        | 16/100 [04:35<23:22, 16.69s/it]"
     ]
    },
    {
     "name": "stdout",
     "output_type": "stream",
     "text": [
      "[17776 10765 17775 18520 17777 18409 18086 17784 21601 10968]\n",
      "[21601, 18520, 18409, 18086, 17784, 17777, 17776, 17775, 10968, 10765]\n",
      "[10765 18154]\n",
      "{10: {'precision': array([0.1], dtype=float32), 'recall': array([1.], dtype=float32), 'ndcg': array([0.28906483])}}\n",
      "{10: {'precision': array([0.1], dtype=float32), 'recall': array([1.], dtype=float32), 'ndcg': array([0.63092975])}}\n"
     ]
    },
    {
     "name": "stderr",
     "output_type": "stream",
     "text": [
      "Evaluating Iteration:  17%|█▋        | 17/100 [04:55<24:27, 17.68s/it]"
     ]
    },
    {
     "name": "stdout",
     "output_type": "stream",
     "text": [
      "[ 7782   402  3007  4314  1823  4794  1914  9529  1268 18742]\n",
      "[9529, 18742, 7782, 4794, 4314, 3007, 1914, 1823, 402, 1268]\n",
      "[ 7561  7778 10368 18742]\n",
      "{10: {'precision': array([0.1], dtype=float32), 'recall': array([1.], dtype=float32), 'ndcg': array([0.63092975])}}\n",
      "{10: {'precision': array([0.1], dtype=float32), 'recall': array([1.], dtype=float32), 'ndcg': array([0.28906483])}}\n"
     ]
    },
    {
     "name": "stderr",
     "output_type": "stream",
     "text": [
      "Evaluating Iteration:  18%|█▊        | 18/100 [05:10<23:22, 17.11s/it]"
     ]
    },
    {
     "name": "stdout",
     "output_type": "stream",
     "text": [
      "[21656  9813 21854   195 18254 21400  4540 21522 17806 19324]\n",
      "[9813, 195, 21854, 17806, 21656, 21400, 19324, 18254, 4540, 21522]\n",
      "[21854]\n",
      "{10: {'precision': array([0.1], dtype=float32), 'recall': array([1.], dtype=float32), 'ndcg': array([0.5])}}\n",
      "{10: {'precision': array([0.1], dtype=float32), 'recall': array([1.], dtype=float32), 'ndcg': array([0.5])}}\n"
     ]
    },
    {
     "name": "stderr",
     "output_type": "stream",
     "text": [
      "Evaluating Iteration:  19%|█▉        | 19/100 [05:26<22:36, 16.75s/it]"
     ]
    },
    {
     "name": "stdout",
     "output_type": "stream",
     "text": [
      "[ 6181 14757 12378 20389 14755 14758 14771 13419 16533 12222]\n",
      "[14758, 20389, 14757, 14755, 12378, 16533, 14771, 13419, 12222, 6181]\n",
      "[6181]\n",
      "{10: {'precision': array([0.1], dtype=float32), 'recall': array([1.], dtype=float32), 'ndcg': array([0.28906483])}}\n",
      "{10: {'precision': array([0.1], dtype=float32), 'recall': array([1.], dtype=float32), 'ndcg': array([1.])}}\n"
     ]
    },
    {
     "name": "stderr",
     "output_type": "stream",
     "text": [
      "Evaluating Iteration:  20%|██        | 20/100 [05:47<24:00, 18.01s/it]"
     ]
    },
    {
     "name": "stdout",
     "output_type": "stream",
     "text": [
      "[10587 10027 15775  5323  6601 21066 14606 21577  9587 10579]\n",
      "[21577, 21066, 15775, 14606, 10587, 10579, 10027, 9587, 6601, 5323]\n",
      "[ 3609 10579 23389 24762]\n",
      "{10: {'precision': array([0.1], dtype=float32), 'recall': array([1.], dtype=float32), 'ndcg': array([0.35620719])}}\n",
      "{10: {'precision': array([0.1], dtype=float32), 'recall': array([1.], dtype=float32), 'ndcg': array([0.28906483])}}\n"
     ]
    },
    {
     "name": "stderr",
     "output_type": "stream",
     "text": [
      "Evaluating Iteration:  21%|██        | 21/100 [06:06<23:48, 18.08s/it]"
     ]
    },
    {
     "name": "stdout",
     "output_type": "stream",
     "text": [
      "[10765  6348 18520 17723 17289 10968 17782 18083 21752 17777]\n",
      "[21752, 18520, 18083, 17782, 17777, 17723, 17289, 10968, 10765, 6348]\n",
      "[10968]\n",
      "{10: {'precision': array([0.1], dtype=float32), 'recall': array([1.], dtype=float32), 'ndcg': array([0.31546488])}}\n",
      "{10: {'precision': array([0.1], dtype=float32), 'recall': array([1.], dtype=float32), 'ndcg': array([0.35620719])}}\n"
     ]
    },
    {
     "name": "stderr",
     "output_type": "stream",
     "text": [
      "Evaluating Iteration:  22%|██▏       | 22/100 [06:23<23:06, 17.78s/it]"
     ]
    },
    {
     "name": "stdout",
     "output_type": "stream",
     "text": [
      "[ 748  545  606  721  827 2303 1711 2381  562 4238]\n",
      "[562, 606, 748, 827, 721, 545, 2303, 2381, 1711, 4238]\n",
      "[562]\n",
      "{10: {'precision': array([0.1], dtype=float32), 'recall': array([1.], dtype=float32), 'ndcg': array([1.])}}\n",
      "{10: {'precision': array([0.1], dtype=float32), 'recall': array([1.], dtype=float32), 'ndcg': array([0.30103])}}\n"
     ]
    },
    {
     "name": "stderr",
     "output_type": "stream",
     "text": [
      "Evaluating Iteration:  23%|██▎       | 23/100 [06:39<22:07, 17.24s/it]"
     ]
    },
    {
     "name": "stdout",
     "output_type": "stream",
     "text": [
      "[ 1919  4680 16374   733  3434  1122  5172 17608  1920  1918]\n",
      "[5172, 17608, 16374, 4680, 3434, 1920, 1919, 1918, 1122, 733]\n",
      "[ 1919 16441]\n",
      "{10: {'precision': array([0.1], dtype=float32), 'recall': array([1.], dtype=float32), 'ndcg': array([0.33333333])}}\n",
      "{10: {'precision': array([0.1], dtype=float32), 'recall': array([1.], dtype=float32), 'ndcg': array([1.])}}\n"
     ]
    },
    {
     "name": "stderr",
     "output_type": "stream",
     "text": [
      "Evaluating Iteration:  24%|██▍       | 24/100 [06:55<21:27, 16.94s/it]"
     ]
    },
    {
     "name": "stdout",
     "output_type": "stream",
     "text": [
      "[  92  263  305 1171  324  313 2005 1077 1473 3422]\n",
      "[324, 3422, 2005, 1473, 1171, 1077, 313, 305, 263, 92]\n",
      "[305]\n",
      "{10: {'precision': array([0.1], dtype=float32), 'recall': array([1.], dtype=float32), 'ndcg': array([0.31546488])}}\n",
      "{10: {'precision': array([0.1], dtype=float32), 'recall': array([1.], dtype=float32), 'ndcg': array([0.5])}}\n"
     ]
    },
    {
     "name": "stderr",
     "output_type": "stream",
     "text": [
      "Evaluating Iteration:  25%|██▌       | 25/100 [07:21<24:41, 19.76s/it]"
     ]
    },
    {
     "name": "stdout",
     "output_type": "stream",
     "text": [
      "[17782 16981 22866 18085 18087 17776 18086 22940 17784 21752]\n",
      "[22940, 22866, 21752, 18087, 18086, 18085, 17784, 17782, 17776, 16981]\n",
      "[16977 16981 18085 18086 20186 20188 22767 22940 23455 24100]\n",
      "{10: {'precision': array([0.4], dtype=float32), 'recall': array([1.], dtype=float32), 'ndcg': array([0.79330099])}}\n",
      "{10: {'precision': array([0.4], dtype=float32), 'recall': array([1.], dtype=float32), 'ndcg': array([0.6677078])}}\n"
     ]
    },
    {
     "name": "stderr",
     "output_type": "stream",
     "text": [
      "Evaluating Iteration:  26%|██▌       | 26/100 [07:37<22:57, 18.62s/it]"
     ]
    },
    {
     "name": "stdout",
     "output_type": "stream",
     "text": [
      "[ 9732  4540 16980  8907 18000  1700 17144  6591 13815  9494]\n",
      "[8907, 18000, 17144, 16980, 13815, 9732, 9494, 6591, 4540, 1700]\n",
      "[4540]\n",
      "{10: {'precision': array([0.1], dtype=float32), 'recall': array([1.], dtype=float32), 'ndcg': array([0.30103])}}\n",
      "{10: {'precision': array([0.1], dtype=float32), 'recall': array([1.], dtype=float32), 'ndcg': array([0.63092975])}}\n"
     ]
    },
    {
     "name": "stderr",
     "output_type": "stream",
     "text": [
      "Evaluating Iteration:  27%|██▋       | 27/100 [07:55<22:29, 18.49s/it]"
     ]
    },
    {
     "name": "stdout",
     "output_type": "stream",
     "text": [
      "[18086 21603 24028 19813 16981 23882 21601 23421 23046 16979]\n",
      "[23882, 24028, 23421, 23046, 21603, 21601, 19813, 18086, 16981, 16979]\n",
      "[18086 22940 23046 23566]\n",
      "{10: {'precision': array([0.2], dtype=float32), 'recall': array([1.], dtype=float32), 'ndcg': array([0.45749453])}}\n",
      "{10: {'precision': array([0.2], dtype=float32), 'recall': array([1.], dtype=float32), 'ndcg': array([0.79772289])}}\n"
     ]
    },
    {
     "name": "stderr",
     "output_type": "stream",
     "text": [
      "Evaluating Iteration:  28%|██▊       | 28/100 [08:12<21:27, 17.89s/it]"
     ]
    },
    {
     "name": "stdout",
     "output_type": "stream",
     "text": [
      "[ 1503 19746  4541  9003  2158 23053  9001 11343  4219 14612]\n",
      "[1503, 19746, 4219, 9001, 23053, 14612, 11343, 9003, 4541, 2158]\n",
      "[ 2158 16282]\n",
      "{10: {'precision': array([0.1], dtype=float32), 'recall': array([1.], dtype=float32), 'ndcg': array([0.28906483])}}\n",
      "{10: {'precision': array([0.1], dtype=float32), 'recall': array([1.], dtype=float32), 'ndcg': array([0.38685281])}}\n"
     ]
    },
    {
     "name": "stderr",
     "output_type": "stream",
     "text": [
      "Evaluating Iteration:  29%|██▉       | 29/100 [08:28<20:33, 17.37s/it]"
     ]
    },
    {
     "name": "stdout",
     "output_type": "stream",
     "text": [
      "[17776 21156 10968 24281 24124 23538 18085 18086 21601 24050]\n",
      "[24281, 24124, 24050, 23538, 21601, 21156, 18086, 18085, 17776, 10968]\n",
      "[24248 24281]\n",
      "{10: {'precision': array([0.1], dtype=float32), 'recall': array([1.], dtype=float32), 'ndcg': array([1.])}}\n",
      "{10: {'precision': array([0.1], dtype=float32), 'recall': array([1.], dtype=float32), 'ndcg': array([0.43067656])}}\n"
     ]
    },
    {
     "name": "stderr",
     "output_type": "stream",
     "text": [
      "Evaluating Iteration:  30%|███       | 30/100 [08:43<19:37, 16.83s/it]"
     ]
    },
    {
     "name": "stdout",
     "output_type": "stream",
     "text": [
      "[ 7263 22562  2051  6649 19342 18103  8019 15996  9285  8034]\n",
      "[9285, 22562, 19342, 18103, 8034, 8019, 7263, 6649, 2051, 15996]\n",
      "[8019]\n",
      "{10: {'precision': array([0.1], dtype=float32), 'recall': array([1.], dtype=float32), 'ndcg': array([0.35620719])}}\n",
      "{10: {'precision': array([0.1], dtype=float32), 'recall': array([1.], dtype=float32), 'ndcg': array([0.33333333])}}\n"
     ]
    },
    {
     "name": "stderr",
     "output_type": "stream",
     "text": [
      "Evaluating Iteration:  31%|███       | 31/100 [09:44<34:34, 30.06s/it]"
     ]
    },
    {
     "name": "stdout",
     "output_type": "stream",
     "text": [
      "[ 267  265 1917 1945   53   45  548 4011 5632  281]\n",
      "[265, 5632, 4011, 1945, 1917, 548, 281, 267, 53, 45]\n",
      "[   45   357   358   606   622   759  1085  1101  1122  1184  1604  1919\n",
      "  3277  3434  5155  5161  5948  6371  6470  6751  6893  7417  7500  8151\n",
      "  8783  9845 14257 18782]\n",
      "{10: {'precision': array([0.1], dtype=float32), 'recall': array([1.], dtype=float32), 'ndcg': array([0.28906483])}}\n",
      "{10: {'precision': array([0.1], dtype=float32), 'recall': array([1.], dtype=float32), 'ndcg': array([0.35620719])}}\n"
     ]
    },
    {
     "name": "stderr",
     "output_type": "stream",
     "text": [
      "Evaluating Iteration:  32%|███▏      | 32/100 [10:13<33:42, 29.74s/it]"
     ]
    },
    {
     "name": "stdout",
     "output_type": "stream",
     "text": [
      "[3864 2700 3669 3337 2442  286 2696 6809 3733 3654]\n",
      "[6809, 2442, 3864, 3733, 3669, 3654, 3337, 2700, 2696, 286]\n",
      "[  286  1493  2932  2934  2952  3104  6273  9278 19405]\n",
      "{10: {'precision': array([0.1], dtype=float32), 'recall': array([1.], dtype=float32), 'ndcg': array([0.28906483])}}\n",
      "{10: {'precision': array([0.1], dtype=float32), 'recall': array([1.], dtype=float32), 'ndcg': array([0.35620719])}}\n"
     ]
    },
    {
     "name": "stderr",
     "output_type": "stream",
     "text": [
      "Evaluating Iteration:  33%|███▎      | 33/100 [10:30<28:55, 25.90s/it]"
     ]
    },
    {
     "name": "stdout",
     "output_type": "stream",
     "text": [
      "[ 4919  1493  2970  2969  1091  9495  2974  2964  1507 18555]\n",
      "[1507, 2964, 2970, 2974, 2969, 1493, 9495, 4919, 1091, 18555]\n",
      "[ 2970 12528]\n",
      "{10: {'precision': array([0.1], dtype=float32), 'recall': array([1.], dtype=float32), 'ndcg': array([0.5])}}\n",
      "{10: {'precision': array([0.1], dtype=float32), 'recall': array([1.], dtype=float32), 'ndcg': array([0.5])}}\n"
     ]
    },
    {
     "name": "stderr",
     "output_type": "stream",
     "text": [
      "Evaluating Iteration:  34%|███▍      | 34/100 [10:50<26:18, 23.92s/it]"
     ]
    },
    {
     "name": "stdout",
     "output_type": "stream",
     "text": [
      "[23441 21996 22080 23862 23307 19343 22148 19345 22716 22140]\n",
      "[19343, 22080, 22148, 23862, 22140, 19345, 22716, 23307, 21996, 23441]\n",
      "[21996]\n",
      "{10: {'precision': array([0.1], dtype=float32), 'recall': array([1.], dtype=float32), 'ndcg': array([0.30103])}}\n",
      "{10: {'precision': array([0.1], dtype=float32), 'recall': array([1.], dtype=float32), 'ndcg': array([0.63092975])}}\n"
     ]
    },
    {
     "name": "stderr",
     "output_type": "stream",
     "text": [
      "Evaluating Iteration:  35%|███▌      | 35/100 [11:05<23:13, 21.44s/it]"
     ]
    },
    {
     "name": "stdout",
     "output_type": "stream",
     "text": [
      "[23995 20326 18438 23906 17837 22465 18164 22528 14137 20477]\n",
      "[17837, 23995, 22528, 18438, 23906, 22465, 20326, 14137, 20477, 18164]\n",
      "[20477]\n",
      "{10: {'precision': array([0.1], dtype=float32), 'recall': array([1.], dtype=float32), 'ndcg': array([0.30103])}}\n",
      "{10: {'precision': array([0.1], dtype=float32), 'recall': array([1.], dtype=float32), 'ndcg': array([0.28906483])}}\n"
     ]
    },
    {
     "name": "stderr",
     "output_type": "stream",
     "text": [
      "Evaluating Iteration:  36%|███▌      | 36/100 [11:23<21:45, 20.39s/it]"
     ]
    },
    {
     "name": "stdout",
     "output_type": "stream",
     "text": [
      "[ 1102  1088  1021  9039  1136  4075  4079 10587  9792  6583]\n",
      "[9039, 1088, 10587, 9792, 6583, 4079, 4075, 1136, 1102, 1021]\n",
      "[ 1021  6583 22463]\n",
      "{10: {'precision': array([0.2], dtype=float32), 'recall': array([1.], dtype=float32), 'ndcg': array([0.414437])}}\n",
      "{10: {'precision': array([0.2], dtype=float32), 'recall': array([1.], dtype=float32), 'ndcg': array([0.48381288])}}\n"
     ]
    },
    {
     "name": "stderr",
     "output_type": "stream",
     "text": [
      "Evaluating Iteration:  37%|███▋      | 37/100 [11:40<20:07, 19.17s/it]"
     ]
    },
    {
     "name": "stdout",
     "output_type": "stream",
     "text": [
      "[ 4542  7782  1981  6765   930  4445  7902 11217 11409  6085]\n",
      "[930, 1981, 4445, 7902, 6765, 11409, 11217, 7782, 6085, 4542]\n",
      "[1671 4445]\n",
      "{10: {'precision': array([0.1], dtype=float32), 'recall': array([1.], dtype=float32), 'ndcg': array([0.5])}}\n",
      "{10: {'precision': array([0.1], dtype=float32), 'recall': array([1.], dtype=float32), 'ndcg': array([0.35620719])}}\n"
     ]
    },
    {
     "name": "stderr",
     "output_type": "stream",
     "text": [
      "Evaluating Iteration:  38%|███▊      | 38/100 [11:58<19:42, 19.07s/it]"
     ]
    },
    {
     "name": "stdout",
     "output_type": "stream",
     "text": [
      "[ 795 1559 1560 3938 1568 1055 5524 1785 1097  355]\n",
      "[1559, 795, 5524, 3938, 1785, 1568, 1560, 1097, 1055, 355]\n",
      "[ 1097 21215 21346 24012]\n",
      "{10: {'precision': array([0.1], dtype=float32), 'recall': array([1.], dtype=float32), 'ndcg': array([0.31546488])}}\n",
      "{10: {'precision': array([0.1], dtype=float32), 'recall': array([1.], dtype=float32), 'ndcg': array([0.30103])}}\n"
     ]
    },
    {
     "name": "stderr",
     "output_type": "stream",
     "text": [
      "Evaluating Iteration:  39%|███▉      | 39/100 [12:29<22:54, 22.54s/it]"
     ]
    },
    {
     "name": "stdout",
     "output_type": "stream",
     "text": [
      "[ 884 3677 2063  886 4641  841  972 1625  919 6778]\n",
      "[2063, 3677, 886, 884, 1625, 6778, 4641, 919, 972, 841]\n",
      "[  863  1224  2063  3373  3677  7047  7934 10680 10723 19015]\n",
      "{10: {'precision': array([0.2], dtype=float32), 'recall': array([1.], dtype=float32), 'ndcg': array([1.])}}\n",
      "{10: {'precision': array([0.2], dtype=float32), 'recall': array([1.], dtype=float32), 'ndcg': array([0.6934264])}}\n"
     ]
    },
    {
     "name": "stderr",
     "output_type": "stream",
     "text": [
      "Evaluating Iteration:  40%|████      | 40/100 [12:45<20:29, 20.50s/it]"
     ]
    },
    {
     "name": "stdout",
     "output_type": "stream",
     "text": [
      "[13815 20344  3461 18695  1214  5849 16374  4680 19706 20743]\n",
      "[20743, 18695, 1214, 20344, 19706, 16374, 13815, 5849, 4680, 3461]\n",
      "[13815]\n",
      "{10: {'precision': array([0.1], dtype=float32), 'recall': array([1.], dtype=float32), 'ndcg': array([0.33333333])}}\n",
      "{10: {'precision': array([0.1], dtype=float32), 'recall': array([1.], dtype=float32), 'ndcg': array([1.])}}\n"
     ]
    },
    {
     "name": "stderr",
     "output_type": "stream",
     "text": [
      "Evaluating Iteration:  41%|████      | 41/100 [13:01<18:52, 19.20s/it]"
     ]
    },
    {
     "name": "stdout",
     "output_type": "stream",
     "text": [
      "[ 1214  1223  7400 13815 19706  3461 15669 23718  7512 17086]\n",
      "[7400, 15669, 7512, 1214, 23718, 19706, 13815, 3461, 1223, 17086]\n",
      "[1214 1223]\n",
      "{10: {'precision': array([0.2], dtype=float32), 'recall': array([1.], dtype=float32), 'ndcg': array([0.44864382])}}\n",
      "{10: {'precision': array([0.2], dtype=float32), 'recall': array([1.], dtype=float32), 'ndcg': array([1.])}}\n"
     ]
    },
    {
     "name": "stderr",
     "output_type": "stream",
     "text": [
      "Evaluating Iteration:  42%|████▏     | 42/100 [13:17<17:37, 18.23s/it]"
     ]
    },
    {
     "name": "stdout",
     "output_type": "stream",
     "text": [
      "[21255   736  4076  3626  3998  1674   709  3612  4447  2611]\n",
      "[709, 1674, 21255, 3998, 4447, 4076, 3626, 3612, 2611, 736]\n",
      "[1674]\n",
      "{10: {'precision': array([0.1], dtype=float32), 'recall': array([1.], dtype=float32), 'ndcg': array([0.63092975])}}\n",
      "{10: {'precision': array([0.1], dtype=float32), 'recall': array([1.], dtype=float32), 'ndcg': array([0.35620719])}}\n"
     ]
    },
    {
     "name": "stderr",
     "output_type": "stream",
     "text": [
      "Evaluating Iteration:  43%|████▎     | 43/100 [13:34<17:03, 17.96s/it]"
     ]
    },
    {
     "name": "stdout",
     "output_type": "stream",
     "text": [
      "[10967 17776 18520 18083 17782 18368 17775 17777 17784 22801]\n",
      "[22801, 18520, 18368, 18083, 17784, 17782, 17777, 17776, 17775, 10967]\n",
      "[18520 22767 22870]\n",
      "{10: {'precision': array([0.1], dtype=float32), 'recall': array([1.], dtype=float32), 'ndcg': array([0.63092975])}}\n",
      "{10: {'precision': array([0.1], dtype=float32), 'recall': array([1.], dtype=float32), 'ndcg': array([0.5])}}\n"
     ]
    },
    {
     "name": "stderr",
     "output_type": "stream",
     "text": [
      "Evaluating Iteration:  44%|████▍     | 44/100 [13:54<17:14, 18.47s/it]"
     ]
    },
    {
     "name": "stdout",
     "output_type": "stream",
     "text": [
      "[2417 3600 2421 3453 2411 9298 4703 2414 9294 9292]\n",
      "[9292, 4703, 2414, 3600, 9298, 9294, 2417, 3453, 2421, 2411]\n",
      "[ 2414  2417  2421  4703 10217]\n",
      "{10: {'precision': array([0.4], dtype=float32), 'recall': array([1.], dtype=float32), 'ndcg': array([0.6891352])}}\n",
      "{10: {'precision': array([0.4], dtype=float32), 'recall': array([1.], dtype=float32), 'ndcg': array([0.83884795])}}\n"
     ]
    },
    {
     "name": "stderr",
     "output_type": "stream",
     "text": [
      "Evaluating Iteration:  45%|████▌     | 45/100 [14:11<16:30, 18.01s/it]"
     ]
    },
    {
     "name": "stdout",
     "output_type": "stream",
     "text": [
      "[ 9933 18000 14612  4541 14790 22948 22130  8168 17236  4540]\n",
      "[22948, 18000, 17236, 14790, 14612, 9933, 8168, 4541, 4540, 22130]\n",
      "[ 9813  9941 18000]\n",
      "{10: {'precision': array([0.1], dtype=float32), 'recall': array([1.], dtype=float32), 'ndcg': array([0.63092975])}}\n",
      "{10: {'precision': array([0.1], dtype=float32), 'recall': array([1.], dtype=float32), 'ndcg': array([0.63092975])}}\n"
     ]
    },
    {
     "name": "stderr",
     "output_type": "stream",
     "text": [
      "Evaluating Iteration:  46%|████▌     | 46/100 [14:27<15:40, 17.42s/it]"
     ]
    },
    {
     "name": "stdout",
     "output_type": "stream",
     "text": [
      "[ 8443 10309  6249  6250  2421  5022 10005  2410  9151  4715]\n",
      "[2410, 9151, 6249, 4715, 6250, 5022, 2421, 8443, 10309, 10005]\n",
      "[10005 21215]\n",
      "{10: {'precision': array([0.1], dtype=float32), 'recall': array([1.], dtype=float32), 'ndcg': array([0.28906483])}}\n",
      "{10: {'precision': array([0.1], dtype=float32), 'recall': array([1.], dtype=float32), 'ndcg': array([0.33333333])}}\n"
     ]
    },
    {
     "name": "stderr",
     "output_type": "stream",
     "text": [
      "Evaluating Iteration:  47%|████▋     | 47/100 [14:43<15:07, 17.13s/it]"
     ]
    },
    {
     "name": "stdout",
     "output_type": "stream",
     "text": [
      "[ 650 2005 1668 1438 3012  302  441  512 5401  416]\n",
      "[1438, 416, 1668, 512, 3012, 5401, 2005, 650, 441, 302]\n",
      "[441 998]\n",
      "{10: {'precision': array([0.1], dtype=float32), 'recall': array([1.], dtype=float32), 'ndcg': array([0.30103])}}\n",
      "{10: {'precision': array([0.1], dtype=float32), 'recall': array([1.], dtype=float32), 'ndcg': array([0.33333333])}}\n"
     ]
    },
    {
     "name": "stderr",
     "output_type": "stream",
     "text": [
      "Evaluating Iteration:  48%|████▊     | 48/100 [15:00<14:39, 16.90s/it]"
     ]
    },
    {
     "name": "stdout",
     "output_type": "stream",
     "text": [
      "[24490 23537 24491 23565 24357 22007 24300 18087 18520 24880]\n",
      "[23537, 24491, 24490, 24880, 24300, 24357, 23565, 22007, 18520, 18087]\n",
      "[24491 24880]\n",
      "{10: {'precision': array([0.2], dtype=float32), 'recall': array([1.], dtype=float32), 'ndcg': array([0.65092093])}}\n",
      "{10: {'precision': array([0.2], dtype=float32), 'recall': array([1.], dtype=float32), 'ndcg': array([0.48381288])}}\n"
     ]
    },
    {
     "name": "stderr",
     "output_type": "stream",
     "text": [
      "Evaluating Iteration:  49%|████▉     | 49/100 [15:17<14:22, 16.92s/it]"
     ]
    },
    {
     "name": "stdout",
     "output_type": "stream",
     "text": [
      "[18000 18257 17663 14790 18254 21021 20230 14222  9936  9942]\n",
      "[20230, 21021, 18257, 18254, 18000, 17663, 14790, 14222, 9942, 9936]\n",
      "[ 9936 21021 23061]\n",
      "{10: {'precision': array([0.2], dtype=float32), 'recall': array([1.], dtype=float32), 'ndcg': array([0.56409209])}}\n",
      "{10: {'precision': array([0.2], dtype=float32), 'recall': array([1.], dtype=float32), 'ndcg': array([0.40298313])}}\n"
     ]
    },
    {
     "name": "stderr",
     "output_type": "stream",
     "text": [
      "Evaluating Iteration:  50%|█████     | 50/100 [15:33<13:51, 16.62s/it]"
     ]
    },
    {
     "name": "stdout",
     "output_type": "stream",
     "text": [
      "[ 1214  1216 13815 15669  3461  7400 20344 10576 20743  4441]\n",
      "[7400, 15669, 20743, 1214, 20344, 13815, 10576, 4441, 3461, 1216]\n",
      "[7400]\n",
      "{10: {'precision': array([0.1], dtype=float32), 'recall': array([1.], dtype=float32), 'ndcg': array([1.])}}\n",
      "{10: {'precision': array([0.1], dtype=float32), 'recall': array([1.], dtype=float32), 'ndcg': array([0.35620719])}}\n"
     ]
    },
    {
     "name": "stderr",
     "output_type": "stream",
     "text": [
      "Evaluating Iteration:  51%|█████     | 51/100 [15:51<13:54, 17.04s/it]"
     ]
    },
    {
     "name": "stdout",
     "output_type": "stream",
     "text": [
      "[ 267 3724 1039 1945 2802 5537 1248  266 1196   92]\n",
      "[5537, 3724, 2802, 1945, 1248, 1196, 1039, 267, 266, 92]\n",
      "[ 330 1211 1945]\n",
      "{10: {'precision': array([0.1], dtype=float32), 'recall': array([1.], dtype=float32), 'ndcg': array([0.43067656])}}\n",
      "{10: {'precision': array([0.1], dtype=float32), 'recall': array([1.], dtype=float32), 'ndcg': array([0.43067656])}}\n"
     ]
    },
    {
     "name": "stderr",
     "output_type": "stream",
     "text": [
      "Evaluating Iteration:  52%|█████▏    | 52/100 [16:09<13:50, 17.31s/it]"
     ]
    },
    {
     "name": "stdout",
     "output_type": "stream",
     "text": [
      "[ 2709  3255   579  3269  2802 15193  1513   323  1568  2055]\n",
      "[1513, 579, 15193, 3269, 3255, 2802, 2709, 2055, 1568, 323]\n",
      "[ 3269 10145 11541 13079]\n",
      "{10: {'precision': array([0.1], dtype=float32), 'recall': array([1.], dtype=float32), 'ndcg': array([0.43067656])}}\n",
      "{10: {'precision': array([0.1], dtype=float32), 'recall': array([1.], dtype=float32), 'ndcg': array([0.43067656])}}\n"
     ]
    },
    {
     "name": "stderr",
     "output_type": "stream",
     "text": [
      "Evaluating Iteration:  53%|█████▎    | 53/100 [16:25<13:17, 16.97s/it]"
     ]
    },
    {
     "name": "stdout",
     "output_type": "stream",
     "text": [
      "[ 9621  1214 17673  1216 19706  6408 16245  8907 20019 15883]\n",
      "[6408, 20019, 15883, 16245, 8907, 1214, 19706, 17673, 9621, 1216]\n",
      "[8270 8907]\n",
      "{10: {'precision': array([0.1], dtype=float32), 'recall': array([1.], dtype=float32), 'ndcg': array([0.38685281])}}\n",
      "{10: {'precision': array([0.1], dtype=float32), 'recall': array([1.], dtype=float32), 'ndcg': array([0.31546488])}}\n"
     ]
    },
    {
     "name": "stderr",
     "output_type": "stream",
     "text": [
      "Evaluating Iteration:  54%|█████▍    | 54/100 [16:41<12:55, 16.86s/it]"
     ]
    },
    {
     "name": "stdout",
     "output_type": "stream",
     "text": [
      "[ 9100  3404  8073 17800  3403  8074  1440 11105  3402 11426]\n",
      "[11105, 11426, 9100, 3404, 17800, 8074, 8073, 3403, 1440, 3402]\n",
      "[11426 15515]\n",
      "{10: {'precision': array([0.1], dtype=float32), 'recall': array([1.], dtype=float32), 'ndcg': array([0.63092975])}}\n",
      "{10: {'precision': array([0.1], dtype=float32), 'recall': array([1.], dtype=float32), 'ndcg': array([0.28906483])}}\n"
     ]
    },
    {
     "name": "stderr",
     "output_type": "stream",
     "text": [
      "Evaluating Iteration:  54%|█████▍    | 54/100 [16:47<14:18, 18.66s/it]\n"
     ]
    },
    {
     "ename": "KeyboardInterrupt",
     "evalue": "",
     "output_type": "error",
     "traceback": [
      "\u001b[1;31m---------------------------------------------------------------------------\u001b[0m",
      "\u001b[1;31mKeyboardInterrupt\u001b[0m                         Traceback (most recent call last)",
      "\u001b[1;32m~\\AppData\\Local\\Temp/ipykernel_24320/1457372779.py\u001b[0m in \u001b[0;36m<module>\u001b[1;34m\u001b[0m\n\u001b[1;32m----> 1\u001b[1;33m \u001b[0mdicts\u001b[0m \u001b[1;33m=\u001b[0m \u001b[0mexplainable_recommend\u001b[0m\u001b[1;33m(\u001b[0m\u001b[0mmodel\u001b[0m\u001b[1;33m,\u001b[0m \u001b[0mdata\u001b[0m\u001b[1;33m,\u001b[0m \u001b[0mtarget_relations\u001b[0m\u001b[1;33m,\u001b[0m \u001b[0mKs\u001b[0m\u001b[1;33m)\u001b[0m\u001b[1;33m\u001b[0m\u001b[1;33m\u001b[0m\u001b[0m\n\u001b[0m",
      "\u001b[1;32m~\\AppData\\Local\\Temp/ipykernel_24320/3405660709.py\u001b[0m in \u001b[0;36mexplainable_recommend\u001b[1;34m(model, data, relations, Ks)\u001b[0m\n\u001b[0;32m    168\u001b[0m         print('CF Evaluation: Precision [{:.4f}, {:.4f}], Recall [{:.4f}, {:.4f}], NDCG [{:.4f}, {:.4f}]'.format(\n\u001b[0;32m    169\u001b[0m            metrics_dict[k_min]['precision'], metrics_dict[k_max]['precision'], metrics_dict[k_min]['recall'], metrics_dict[k_max]['recall'], metrics_dict[k_min]['ndcg'], metrics_dict[k_max]['ndcg']))\n\u001b[1;32m--> 170\u001b[1;33m         \u001b[0mmetrics_dict\u001b[0m \u001b[1;33m=\u001b[0m \u001b[0mexplainable_evaluate\u001b[0m\u001b[1;33m(\u001b[0m\u001b[0mmodel\u001b[0m\u001b[1;33m,\u001b[0m \u001b[0mdata\u001b[0m\u001b[1;33m,\u001b[0m \u001b[0muser_ids\u001b[0m\u001b[1;33m,\u001b[0m \u001b[0mrelations\u001b[0m\u001b[1;33m,\u001b[0m \u001b[0mKs\u001b[0m\u001b[1;33m,\u001b[0m \u001b[0mdevice\u001b[0m\u001b[1;33m,\u001b[0m \u001b[0mmode\u001b[0m\u001b[1;33m=\u001b[0m\u001b[1;34m'sum'\u001b[0m\u001b[1;33m)\u001b[0m\u001b[1;33m\u001b[0m\u001b[1;33m\u001b[0m\u001b[0m\n\u001b[0m\u001b[0;32m    171\u001b[0m         \u001b[0mmetrics_dicts_sum\u001b[0m\u001b[1;33m.\u001b[0m\u001b[0mappend\u001b[0m\u001b[1;33m(\u001b[0m\u001b[0mmetrics_dict\u001b[0m\u001b[1;33m)\u001b[0m\u001b[1;33m\u001b[0m\u001b[1;33m\u001b[0m\u001b[0m\n\u001b[0;32m    172\u001b[0m         \u001b[0mprint\u001b[0m\u001b[1;33m(\u001b[0m\u001b[1;34m\"Explainable sum\"\u001b[0m\u001b[1;33m)\u001b[0m\u001b[1;33m\u001b[0m\u001b[1;33m\u001b[0m\u001b[0m\n",
      "\u001b[1;32m~\\AppData\\Local\\Temp/ipykernel_24320/3405660709.py\u001b[0m in \u001b[0;36mexplainable_evaluate\u001b[1;34m(model, dataloader, user_ids, relations, Ks, device, mode)\u001b[0m\n\u001b[0;32m    133\u001b[0m         \u001b[1;32mfor\u001b[0m \u001b[0muser_id\u001b[0m \u001b[1;32min\u001b[0m \u001b[0muser_ids\u001b[0m\u001b[1;33m:\u001b[0m\u001b[1;33m\u001b[0m\u001b[1;33m\u001b[0m\u001b[0m\n\u001b[0;32m    134\u001b[0m \u001b[1;33m\u001b[0m\u001b[0m\n\u001b[1;32m--> 135\u001b[1;33m             \u001b[0moutput\u001b[0m\u001b[1;33m,\u001b[0m \u001b[0m_\u001b[0m\u001b[1;33m,\u001b[0m \u001b[0m_\u001b[0m\u001b[1;33m,\u001b[0m \u001b[0mori_top_k\u001b[0m \u001b[1;33m=\u001b[0m \u001b[0mpredict_single\u001b[0m\u001b[1;33m(\u001b[0m\u001b[0mmodel\u001b[0m\u001b[1;33m,\u001b[0m \u001b[0mdataloader\u001b[0m\u001b[1;33m,\u001b[0m \u001b[0muser_id\u001b[0m\u001b[1;33m,\u001b[0m \u001b[0mrelations\u001b[0m\u001b[1;33m,\u001b[0m \u001b[0mKs\u001b[0m\u001b[1;33m,\u001b[0m \u001b[0mdevice\u001b[0m\u001b[1;33m,\u001b[0m \u001b[0mmode\u001b[0m\u001b[1;33m)\u001b[0m\u001b[1;33m\u001b[0m\u001b[1;33m\u001b[0m\u001b[0m\n\u001b[0m\u001b[0;32m    136\u001b[0m             \u001b[0mbatch_metrics\u001b[0m \u001b[1;33m=\u001b[0m \u001b[0mexp_calc_metrics_at_k\u001b[0m\u001b[1;33m(\u001b[0m\u001b[0moutput\u001b[0m\u001b[1;33m[\u001b[0m\u001b[0mmax\u001b[0m\u001b[1;33m(\u001b[0m\u001b[0mKs\u001b[0m\u001b[1;33m)\u001b[0m\u001b[1;33m]\u001b[0m\u001b[1;33m[\u001b[0m\u001b[1;34m'item_ids'\u001b[0m\u001b[1;33m]\u001b[0m\u001b[1;33m,\u001b[0m \u001b[0mtrain_user_dict\u001b[0m\u001b[1;33m,\u001b[0m \u001b[0mtest_user_dict\u001b[0m\u001b[1;33m,\u001b[0m \u001b[1;33m[\u001b[0m\u001b[0muser_id\u001b[0m\u001b[1;33m]\u001b[0m\u001b[1;33m,\u001b[0m \u001b[0mitem_ids\u001b[0m\u001b[1;33m.\u001b[0m\u001b[0mcpu\u001b[0m\u001b[1;33m(\u001b[0m\u001b[1;33m)\u001b[0m\u001b[1;33m.\u001b[0m\u001b[0mnumpy\u001b[0m\u001b[1;33m(\u001b[0m\u001b[1;33m)\u001b[0m\u001b[1;33m,\u001b[0m \u001b[0mKs\u001b[0m\u001b[1;33m)\u001b[0m\u001b[1;33m\u001b[0m\u001b[1;33m\u001b[0m\u001b[0m\n\u001b[0;32m    137\u001b[0m             \u001b[0mori_metrics\u001b[0m \u001b[1;33m=\u001b[0m \u001b[0mexp_calc_metrics_at_k\u001b[0m\u001b[1;33m(\u001b[0m\u001b[0mori_top_k\u001b[0m\u001b[1;33m,\u001b[0m \u001b[0mtrain_user_dict\u001b[0m\u001b[1;33m,\u001b[0m \u001b[0mtest_user_dict\u001b[0m\u001b[1;33m,\u001b[0m \u001b[1;33m[\u001b[0m\u001b[0muser_id\u001b[0m\u001b[1;33m]\u001b[0m\u001b[1;33m,\u001b[0m \u001b[0mitem_ids\u001b[0m\u001b[1;33m.\u001b[0m\u001b[0mcpu\u001b[0m\u001b[1;33m(\u001b[0m\u001b[1;33m)\u001b[0m\u001b[1;33m.\u001b[0m\u001b[0mnumpy\u001b[0m\u001b[1;33m(\u001b[0m\u001b[1;33m)\u001b[0m\u001b[1;33m,\u001b[0m \u001b[0mKs\u001b[0m\u001b[1;33m)\u001b[0m\u001b[1;33m\u001b[0m\u001b[1;33m\u001b[0m\u001b[0m\n",
      "\u001b[1;32m~\\AppData\\Local\\Temp/ipykernel_24320/3405660709.py\u001b[0m in \u001b[0;36mpredict_single\u001b[1;34m(model, dataloader, user_id, relations, Ks, device, mode)\u001b[0m\n\u001b[0;32m     49\u001b[0m \u001b[1;33m\u001b[0m\u001b[0m\n\u001b[0;32m     50\u001b[0m     \u001b[1;32mfor\u001b[0m \u001b[0mitem_id\u001b[0m \u001b[1;32min\u001b[0m \u001b[0mtop_k_items\u001b[0m\u001b[1;33m:\u001b[0m\u001b[1;33m\u001b[0m\u001b[1;33m\u001b[0m\u001b[0m\n\u001b[1;32m---> 51\u001b[1;33m         \u001b[0mpaths\u001b[0m \u001b[1;33m=\u001b[0m \u001b[0mfind_all_path_all_r\u001b[0m\u001b[1;33m(\u001b[0m\u001b[0muser_id\u001b[0m\u001b[1;33m,\u001b[0m \u001b[0mitem_id\u001b[0m\u001b[1;33m,\u001b[0m \u001b[0mrelations\u001b[0m\u001b[1;33m,\u001b[0m \u001b[0mdataloader\u001b[0m\u001b[1;33m.\u001b[0m\u001b[0madjacency_dict\u001b[0m\u001b[1;33m)\u001b[0m\u001b[1;33m\u001b[0m\u001b[1;33m\u001b[0m\u001b[0m\n\u001b[0m\u001b[0;32m     52\u001b[0m         \u001b[0mreranked_paths\u001b[0m\u001b[1;33m,\u001b[0m \u001b[0mscores\u001b[0m \u001b[1;33m=\u001b[0m \u001b[0mget_top_k_path\u001b[0m\u001b[1;33m(\u001b[0m\u001b[0mpaths\u001b[0m\u001b[1;33m,\u001b[0m \u001b[0mmodel\u001b[0m\u001b[1;33m.\u001b[0m\u001b[0mA_in\u001b[0m\u001b[1;33m,\u001b[0m \u001b[0mmode\u001b[0m\u001b[1;33m=\u001b[0m\u001b[0mmode\u001b[0m\u001b[1;33m,\u001b[0m \u001b[0mk\u001b[0m\u001b[1;33m=\u001b[0m\u001b[1;36m5\u001b[0m\u001b[1;33m)\u001b[0m\u001b[1;33m\u001b[0m\u001b[1;33m\u001b[0m\u001b[0m\n\u001b[0;32m     53\u001b[0m         \u001b[0mtop_k_all_att_scores\u001b[0m\u001b[1;33m.\u001b[0m\u001b[0mappend\u001b[0m\u001b[1;33m(\u001b[0m\u001b[0mscores\u001b[0m\u001b[1;33m)\u001b[0m\u001b[1;33m\u001b[0m\u001b[1;33m\u001b[0m\u001b[0m\n",
      "\u001b[1;32m~\\AppData\\Local\\Temp/ipykernel_24320/2791736709.py\u001b[0m in \u001b[0;36mfind_all_path_all_r\u001b[1;34m(start, end, relations, adj_matrix)\u001b[0m\n\u001b[0;32m     39\u001b[0m \u001b[1;33m\u001b[0m\u001b[0m\n\u001b[0;32m     40\u001b[0m         \u001b[1;31m#t1 = time.perf_counter()\u001b[0m\u001b[1;33m\u001b[0m\u001b[1;33m\u001b[0m\u001b[1;33m\u001b[0m\u001b[0m\n\u001b[1;32m---> 41\u001b[1;33m         \u001b[0mpaths\u001b[0m \u001b[1;33m=\u001b[0m \u001b[0mfind_all_path\u001b[0m\u001b[1;33m(\u001b[0m\u001b[0mstart\u001b[0m\u001b[1;33m,\u001b[0m \u001b[0mend\u001b[0m\u001b[1;33m,\u001b[0m \u001b[0mr_1\u001b[0m\u001b[1;33m,\u001b[0m \u001b[0mr_2\u001b[0m\u001b[1;33m,\u001b[0m \u001b[0madj_matrix\u001b[0m\u001b[1;33m)\u001b[0m\u001b[1;33m\u001b[0m\u001b[1;33m\u001b[0m\u001b[0m\n\u001b[0m\u001b[0;32m     42\u001b[0m         \u001b[0mall_paths\u001b[0m \u001b[1;33m+=\u001b[0m \u001b[0mpaths\u001b[0m\u001b[1;33m\u001b[0m\u001b[1;33m\u001b[0m\u001b[0m\n\u001b[0;32m     43\u001b[0m         \u001b[1;31m#t2 = time.perf_counter()\u001b[0m\u001b[1;33m\u001b[0m\u001b[1;33m\u001b[0m\u001b[1;33m\u001b[0m\u001b[0m\n",
      "\u001b[1;32m~\\AppData\\Local\\Temp/ipykernel_24320/2791736709.py\u001b[0m in \u001b[0;36mfind_all_path\u001b[1;34m(start, end, target_r_1, target_r_2, adj_matrix)\u001b[0m\n\u001b[0;32m      1\u001b[0m \u001b[1;32mdef\u001b[0m \u001b[0mfind_all_path\u001b[0m\u001b[1;33m(\u001b[0m\u001b[0mstart\u001b[0m\u001b[1;33m,\u001b[0m \u001b[0mend\u001b[0m\u001b[1;33m,\u001b[0m \u001b[0mtarget_r_1\u001b[0m\u001b[1;33m,\u001b[0m \u001b[0mtarget_r_2\u001b[0m\u001b[1;33m,\u001b[0m \u001b[0madj_matrix\u001b[0m\u001b[1;33m)\u001b[0m\u001b[1;33m:\u001b[0m\u001b[1;33m\u001b[0m\u001b[1;33m\u001b[0m\u001b[0m\n\u001b[1;32m----> 2\u001b[1;33m     \u001b[0madj_first\u001b[0m \u001b[1;33m=\u001b[0m \u001b[0madj_matrix\u001b[0m\u001b[1;33m[\u001b[0m\u001b[1;36m0\u001b[0m\u001b[1;33m]\u001b[0m\u001b[1;33m.\u001b[0m\u001b[0mtocsr\u001b[0m\u001b[1;33m(\u001b[0m\u001b[1;33m)\u001b[0m\u001b[1;33m\u001b[0m\u001b[1;33m\u001b[0m\u001b[0m\n\u001b[0m\u001b[0;32m      3\u001b[0m     \u001b[0madj_second\u001b[0m \u001b[1;33m=\u001b[0m \u001b[0madj_matrix\u001b[0m\u001b[1;33m[\u001b[0m\u001b[0mtarget_r_1\u001b[0m\u001b[1;33m]\u001b[0m\u001b[1;33m.\u001b[0m\u001b[0mtocsr\u001b[0m\u001b[1;33m(\u001b[0m\u001b[1;33m)\u001b[0m\u001b[1;33m\u001b[0m\u001b[1;33m\u001b[0m\u001b[0m\n\u001b[0;32m      4\u001b[0m     \u001b[1;31m#adj_last = adj_matrix[target_r_2].tocsr()\u001b[0m\u001b[1;33m\u001b[0m\u001b[1;33m\u001b[0m\u001b[1;33m\u001b[0m\u001b[0m\n\u001b[0;32m      5\u001b[0m \u001b[1;33m\u001b[0m\u001b[0m\n",
      "\u001b[1;32mc:\\Users\\Benz\\AppData\\Local\\Programs\\Python\\Python38\\lib\\site-packages\\scipy\\sparse\\coo.py\u001b[0m in \u001b[0;36mtocsr\u001b[1;34m(self, copy)\u001b[0m\n\u001b[0;32m    409\u001b[0m             \u001b[0mx\u001b[0m \u001b[1;33m=\u001b[0m \u001b[0mcsr_matrix\u001b[0m\u001b[1;33m(\u001b[0m\u001b[1;33m(\u001b[0m\u001b[0mdata\u001b[0m\u001b[1;33m,\u001b[0m \u001b[0mindices\u001b[0m\u001b[1;33m,\u001b[0m \u001b[0mindptr\u001b[0m\u001b[1;33m)\u001b[0m\u001b[1;33m,\u001b[0m \u001b[0mshape\u001b[0m\u001b[1;33m=\u001b[0m\u001b[0mself\u001b[0m\u001b[1;33m.\u001b[0m\u001b[0mshape\u001b[0m\u001b[1;33m)\u001b[0m\u001b[1;33m\u001b[0m\u001b[1;33m\u001b[0m\u001b[0m\n\u001b[0;32m    410\u001b[0m             \u001b[1;32mif\u001b[0m \u001b[1;32mnot\u001b[0m \u001b[0mself\u001b[0m\u001b[1;33m.\u001b[0m\u001b[0mhas_canonical_format\u001b[0m\u001b[1;33m:\u001b[0m\u001b[1;33m\u001b[0m\u001b[1;33m\u001b[0m\u001b[0m\n\u001b[1;32m--> 411\u001b[1;33m                 \u001b[0mx\u001b[0m\u001b[1;33m.\u001b[0m\u001b[0msum_duplicates\u001b[0m\u001b[1;33m(\u001b[0m\u001b[1;33m)\u001b[0m\u001b[1;33m\u001b[0m\u001b[1;33m\u001b[0m\u001b[0m\n\u001b[0m\u001b[0;32m    412\u001b[0m             \u001b[1;32mreturn\u001b[0m \u001b[0mx\u001b[0m\u001b[1;33m\u001b[0m\u001b[1;33m\u001b[0m\u001b[0m\n\u001b[0;32m    413\u001b[0m \u001b[1;33m\u001b[0m\u001b[0m\n",
      "\u001b[1;32mc:\\Users\\Benz\\AppData\\Local\\Programs\\Python\\Python38\\lib\\site-packages\\scipy\\sparse\\compressed.py\u001b[0m in \u001b[0;36msum_duplicates\u001b[1;34m(self)\u001b[0m\n\u001b[0;32m   1104\u001b[0m         \u001b[1;32mif\u001b[0m \u001b[0mself\u001b[0m\u001b[1;33m.\u001b[0m\u001b[0mhas_canonical_format\u001b[0m\u001b[1;33m:\u001b[0m\u001b[1;33m\u001b[0m\u001b[1;33m\u001b[0m\u001b[0m\n\u001b[0;32m   1105\u001b[0m             \u001b[1;32mreturn\u001b[0m\u001b[1;33m\u001b[0m\u001b[1;33m\u001b[0m\u001b[0m\n\u001b[1;32m-> 1106\u001b[1;33m         \u001b[0mself\u001b[0m\u001b[1;33m.\u001b[0m\u001b[0msort_indices\u001b[0m\u001b[1;33m(\u001b[0m\u001b[1;33m)\u001b[0m\u001b[1;33m\u001b[0m\u001b[1;33m\u001b[0m\u001b[0m\n\u001b[0m\u001b[0;32m   1107\u001b[0m \u001b[1;33m\u001b[0m\u001b[0m\n\u001b[0;32m   1108\u001b[0m         \u001b[0mM\u001b[0m\u001b[1;33m,\u001b[0m \u001b[0mN\u001b[0m \u001b[1;33m=\u001b[0m \u001b[0mself\u001b[0m\u001b[1;33m.\u001b[0m\u001b[0m_swap\u001b[0m\u001b[1;33m(\u001b[0m\u001b[0mself\u001b[0m\u001b[1;33m.\u001b[0m\u001b[0mshape\u001b[0m\u001b[1;33m)\u001b[0m\u001b[1;33m\u001b[0m\u001b[1;33m\u001b[0m\u001b[0m\n",
      "\u001b[1;32mc:\\Users\\Benz\\AppData\\Local\\Programs\\Python\\Python38\\lib\\site-packages\\scipy\\sparse\\compressed.py\u001b[0m in \u001b[0;36msort_indices\u001b[1;34m(self)\u001b[0m\n\u001b[0;32m   1150\u001b[0m \u001b[1;33m\u001b[0m\u001b[0m\n\u001b[0;32m   1151\u001b[0m         \u001b[1;32mif\u001b[0m \u001b[1;32mnot\u001b[0m \u001b[0mself\u001b[0m\u001b[1;33m.\u001b[0m\u001b[0mhas_sorted_indices\u001b[0m\u001b[1;33m:\u001b[0m\u001b[1;33m\u001b[0m\u001b[1;33m\u001b[0m\u001b[0m\n\u001b[1;32m-> 1152\u001b[1;33m             _sparsetools.csr_sort_indices(len(self.indptr) - 1, self.indptr,\n\u001b[0m\u001b[0;32m   1153\u001b[0m                                           self.indices, self.data)\n\u001b[0;32m   1154\u001b[0m             \u001b[0mself\u001b[0m\u001b[1;33m.\u001b[0m\u001b[0mhas_sorted_indices\u001b[0m \u001b[1;33m=\u001b[0m \u001b[1;32mTrue\u001b[0m\u001b[1;33m\u001b[0m\u001b[1;33m\u001b[0m\u001b[0m\n",
      "\u001b[1;31mKeyboardInterrupt\u001b[0m: "
     ]
    }
   ],
   "source": [
    "dicts = explainable_recommend(model, data, target_relations, Ks)"
   ]
  },
  {
   "cell_type": "code",
   "execution_count": null,
   "metadata": {},
   "outputs": [],
   "source": []
  }
 ],
 "metadata": {
  "kernelspec": {
   "display_name": "Python 3.8.10 64-bit",
   "language": "python",
   "name": "python3"
  },
  "language_info": {
   "codemirror_mode": {
    "name": "ipython",
    "version": 3
   },
   "file_extension": ".py",
   "mimetype": "text/x-python",
   "name": "python",
   "nbconvert_exporter": "python",
   "pygments_lexer": "ipython3",
   "version": "3.8.10"
  },
  "orig_nbformat": 4,
  "vscode": {
   "interpreter": {
    "hash": "6187b84b243d8ea189c25096ee879342dcb761226c806e7300ffe35952565784"
   }
  }
 },
 "nbformat": 4,
 "nbformat_minor": 2
}
